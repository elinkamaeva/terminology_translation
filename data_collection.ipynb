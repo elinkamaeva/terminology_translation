{
  "cells": [
    {
      "cell_type": "markdown",
      "metadata": {
        "id": "_kNHlBA9tMwE"
      },
      "source": [
        "## Extracting terms, their translations and definitions"
      ]
    },
    {
      "cell_type": "code",
      "execution_count": 3,
      "metadata": {
        "colab": {
          "base_uri": "https://localhost:8080/"
        },
        "id": "ECL0H5Emc1DM",
        "outputId": "0f914162-5d71-4d97-d921-c9d279068672"
      },
      "outputs": [
        {
          "output_type": "stream",
          "name": "stdout",
          "text": [
            "Mounted at /content/drive\n"
          ]
        }
      ],
      "source": [
        "from google.colab import drive\n",
        "drive.mount('/content/drive')"
      ]
    },
    {
      "cell_type": "code",
      "execution_count": 4,
      "metadata": {
        "colab": {
          "base_uri": "https://localhost:8080/"
        },
        "id": "Q0oximCrc31V",
        "outputId": "873d1103-29b6-442b-8204-f87ea3b263bf"
      },
      "outputs": [
        {
          "output_type": "stream",
          "name": "stdout",
          "text": [
            "/content/drive/My Drive/HSE/projects/thesis\n"
          ]
        }
      ],
      "source": [
        "%cd '/content/drive/My Drive/HSE/projects/thesis'"
      ]
    },
    {
      "cell_type": "markdown",
      "source": [
        "### Extracting terms and their definitions from the Linguistic Encyclopedic Dictionary"
      ],
      "metadata": {
        "id": "fdO8oOvGHjwY"
      }
    },
    {
      "cell_type": "code",
      "execution_count": 3,
      "metadata": {
        "id": "jxWiB7UHLIC9"
      },
      "outputs": [],
      "source": [
        "import requests\n",
        "from bs4 import BeautifulSoup, NavigableString\n",
        "import pandas as pd\n",
        "from urllib.parse import urljoin\n",
        "from tqdm import tqdm\n",
        "import re\n",
        "import json"
      ]
    },
    {
      "cell_type": "code",
      "execution_count": null,
      "metadata": {
        "id": "lqvjqDi1K2iO"
      },
      "outputs": [],
      "source": [
        "def clean_text(text):\n",
        "    \"\"\"\n",
        "    Replaces line breaks with spaces, removes \\xa0 and \\xad characters.\n",
        "    \"\"\"\n",
        "    text = text.replace('\\n', ' ')\n",
        "    text = text.replace('\\xa0', ' ').replace('\\xad', '')\n",
        "    return text\n",
        "\n",
        "def post_process_text(text):\n",
        "    \"\"\"\n",
        "    Removes spaces before punctuation marks.\n",
        "    \"\"\"\n",
        "    text = re.sub(r'\\s+([,.:;!?])', r'\\1', text)\n",
        "    return text\n",
        "\n",
        "def extract_text_with_spaces(element):\n",
        "    \"\"\"\n",
        "    Extracts and clears text from HTML, preserving the spaces before the text in <a> tags.\n",
        "    \"\"\"\n",
        "    text_parts = []\n",
        "    for child in element.children:\n",
        "        if isinstance(child, NavigableString):\n",
        "            cleaned_text = clean_text(child)\n",
        "            text_parts.append(cleaned_text)\n",
        "        elif child.name == 'a':\n",
        "            link_text = clean_text(child.get_text(strip=True))\n",
        "            text_parts.append(link_text)\n",
        "        else:\n",
        "            # Recursively process other elements, if any\n",
        "            text_parts.append(extract_text_with_spaces(child))\n",
        "    return ''.join(text_parts)\n",
        "\n",
        "def extract_text_from_page(url):\n",
        "    response = requests.get(url)\n",
        "    soup = BeautifulSoup(response.text, 'html.parser')\n",
        "    paragraphs = soup.find_all('p', class_=lambda x: x not in ['podpisj', 'navigation'])\n",
        "    text = ' '.join(extract_text_with_spaces(p) for p in paragraphs)\n",
        "    return text\n",
        "\n",
        "def extract_terms_and_texts(base_url):\n",
        "    response = requests.get(base_url)\n",
        "    soup = BeautifulSoup(response.text, 'html.parser')\n",
        "\n",
        "    terms_texts = []\n",
        "    h3 = soup.find('h3', text=\"Алфавитная словарная часть\")\n",
        "    if h3:\n",
        "        clist_div = h3.find_next_sibling('div', class_='clist')\n",
        "        if clist_div:\n",
        "            for a_tag in tqdm(clist_div.find_all('a')):\n",
        "                term = a_tag.get_text(strip=True)\n",
        "                link = urljoin(base_url, a_tag['href'])  # Convert relative URL to absolute\n",
        "                text = extract_text_from_page(link)  # Extract text from a page\n",
        "                terms_texts.append((term, link, text))\n",
        "    return terms_texts"
      ]
    },
    {
      "cell_type": "code",
      "execution_count": null,
      "metadata": {
        "colab": {
          "base_uri": "https://localhost:8080/",
          "height": 125
        },
        "id": "aGR2m_oKva9x",
        "outputId": "1a13b69b-5393-489f-8fab-0adef9514bbf"
      },
      "outputs": [
        {
          "data": {
            "application/vnd.google.colaboratory.intrinsic+json": {
              "type": "string"
            },
            "text/plain": [
              "'один из абхазско-адыгских языков. Распространён главным образом в Карачаево-Черкесской АО. Число говорящих свыше 27 тыс. чел. (1979, перепись). Имеет 2 диалекта: тапантский (лежит в основе литературного языка) и ашхарский (по фонетической системе и грамматическому строю близок к абхазскому языку). Отличается от абхазского языка фонетикой (переход дв, тв, тӀв в джв, чв, чӀв, сохранение спирантов гӀ, гӀв и смычных хъ, хъв и др.), образованием указательных местоимений, порядковых и кратных (кратностных) числительных, употреблением послелогов, формами времён и наклонений, отрицательными формами глагола, образованием деепричастий, наречий и т. д. Для А. я. характерны многочисленные заимствования из кабардино-черкесского языка. Письменность создана в 1932—33 на основе латинской графики, с 1938 переведена на русскую графическую основу. Литературный язык после Октябрьской революции 1917 получил интенсивное развитие.'"
            ]
          },
          "execution_count": 5,
          "metadata": {},
          "output_type": "execute_result"
        }
      ],
      "source": [
        "extract_text_from_page('https://tapemark.narod.ru/les/009a.html')"
      ]
    },
    {
      "cell_type": "code",
      "execution_count": null,
      "metadata": {
        "colab": {
          "base_uri": "https://localhost:8080/"
        },
        "id": "Edj-rxBxyPNL",
        "outputId": "ef274be8-951b-4165-d5ec-c0ecd9ce1365"
      },
      "outputs": [
        {
          "name": "stderr",
          "output_type": "stream",
          "text": [
            "<ipython-input-4-3788c7ab66cd>:49: DeprecationWarning: The 'text' argument to find()-type methods is deprecated. Use 'string' instead.\n",
            "  h3 = soup.find('h3', text=\"Алфавитная словарная часть\")\n",
            "100%|██████████| 1399/1399 [15:57<00:00,  1.46it/s]"
          ]
        },
        {
          "name": "stdout",
          "output_type": "stream",
          "text": [
            "Термин: Абазинский язык, Ссылка: https://tapemark.narod.ru/les/009a.html\n",
            "Текст: один из абхазско-адыгских языков. Распространён главным образом в Карачаево-Черкесской АО. Число гов...\n",
            "Термин: Аббревиатура, Ссылка: https://tapemark.narod.ru/les/009b.html\n",
            "Текст: (итал. abbreviatura, от лат. abbrevio — сокращаю) — существительное, состоящее из усечённых слов, вх...\n",
            "Термин: Аблаут, Ссылка: https://tapemark.narod.ru/les/009c.html\n",
            "Текст: (нем. Ablaut) (апофония) — разновидность чередования гласных, фонетически не обусловленного и выража...\n",
            "Термин: Абсолютная конструкция, Ссылка: https://tapemark.narod.ru/les/010a.html\n",
            "Текст: см. Эргативный строй....\n",
            "Термин: Абхазский язык, Ссылка: https://tapemark.narod.ru/les/010b.html\n",
            "Текст: один из абхазско-адыгских языков. Распространён преимущественно в Абхазской АССР, за пределами СССР ...\n"
          ]
        },
        {
          "name": "stderr",
          "output_type": "stream",
          "text": [
            "\n"
          ]
        }
      ],
      "source": [
        "base_url = 'https://tapemark.narod.ru/les/'\n",
        "terms_texts = extract_terms_and_texts(base_url)\n",
        "for term, link, text in terms_texts[:5]:  # Display the first 5 terms and texts for example\n",
        "    print(f\"Термин: {term}, Ссылка: {link}\\nТекст: {text[:100]}...\")"
      ]
    },
    {
      "cell_type": "markdown",
      "source": [
        "### Extracting translations and definitions from the Wikipedia API"
      ],
      "metadata": {
        "id": "3Aw6ENZFR8RI"
      }
    },
    {
      "cell_type": "code",
      "execution_count": null,
      "metadata": {
        "colab": {
          "base_uri": "https://localhost:8080/"
        },
        "id": "t5Ciaqecbh-x",
        "outputId": "3ab52931-8142-411f-8560-ebccaaf3c9b2"
      },
      "outputs": [
        {
          "name": "stdout",
          "output_type": "stream",
          "text": [
            "{'ns': 0, 'title': 'Абазинский язык', 'pageid': 14994, 'size': 24105, 'wordcount': 983, 'snippet': '<span class=\"searchmatch\">Абази́нский</span> <span class=\"searchmatch\">язы́к</span> (абаза бызшва) — <span class=\"searchmatch\">язык</span> абазин, относится к абхазо-<span class=\"searchmatch\">абазинской</span> ветви абхазо-адыгской группы <span class=\"searchmatch\">языков</span> Кавказа. Распространён в Карачаево-Черкесии', 'timestamp': '2023-12-20T22:33:47Z'}\n",
            "<class 'dict'>\n"
          ]
        }
      ],
      "source": [
        "term = 'Абазинский язык'\n",
        "\n",
        "search_url = f\"https://ru.wikipedia.org/w/api.php\"\n",
        "params = {\n",
        "    'action': 'query',\n",
        "    'list': 'search',\n",
        "    'srsearch': term,\n",
        "    'format': 'json'\n",
        "}\n",
        "response = requests.get(search_url, params=params)\n",
        "results = response.json().get('query', {}).get('search', [])\n",
        "if results:\n",
        "    print(results[0])\n",
        "    print(type(results[0]))"
      ]
    },
    {
      "cell_type": "code",
      "execution_count": 5,
      "metadata": {
        "id": "yT7IgaRfMYw3"
      },
      "outputs": [],
      "source": [
        "def search_wikipedia(term, lang='ru'):\n",
        "    search_url = f\"https://{lang}.wikipedia.org/w/api.php\"\n",
        "    params = {\n",
        "        'action': 'query',\n",
        "        'list': 'search',\n",
        "        'srsearch': term,\n",
        "        'format': 'json'\n",
        "    }\n",
        "    response = requests.get(search_url, params=params)\n",
        "    results = response.json().get('query', {}).get('search', [])\n",
        "    if results:\n",
        "        return results[0]['title']\n",
        "    else:\n",
        "        return None\n",
        "\n",
        "def get_interlanguage_link(title, from_lang='ru', to_lang='en'):\n",
        "    url = f\"https://{from_lang}.wikipedia.org/w/api.php\"\n",
        "    params = {\n",
        "        'action': 'query',\n",
        "        'titles': title,\n",
        "        'prop': 'langlinks',\n",
        "        'lllang': to_lang,\n",
        "        'format': 'json'\n",
        "    }\n",
        "    response = requests.get(url, params=params)\n",
        "    pages = response.json().get('query', {}).get('pages', {})\n",
        "    for page_id, page in pages.items():\n",
        "        langlinks = page.get('langlinks', [])\n",
        "        if langlinks:\n",
        "            return langlinks[0]['*']\n",
        "    return None\n",
        "\n",
        "def get_wikipedia_summary(title, lang='ru'):\n",
        "    url = f\"https://{lang}.wikipedia.org/w/api.php\"\n",
        "    params = {\n",
        "        'action': 'query',\n",
        "        'format': 'json',\n",
        "        'titles': title,\n",
        "        'prop': 'extracts',\n",
        "        'exintro': True,\n",
        "        'explaintext': True,\n",
        "    }\n",
        "    response = requests.get(url, params=params)\n",
        "    pages = response.json().get('query', {}).get('pages', {})\n",
        "    for page_id, page in pages.items():\n",
        "        return page.get('extract', None)\n",
        "    return None"
      ]
    },
    {
      "cell_type": "markdown",
      "source": [
        "### Data collection"
      ],
      "metadata": {
        "id": "jDtWAhYfp5x1"
      }
    },
    {
      "cell_type": "code",
      "execution_count": null,
      "metadata": {
        "colab": {
          "base_uri": "https://localhost:8080/"
        },
        "id": "reB8SjO96d6g",
        "outputId": "9735f166-b595-493f-d843-3f5f94d82bc3"
      },
      "outputs": [
        {
          "name": "stderr",
          "output_type": "stream",
          "text": [
            "100%|██████████| 1399/1399 [14:03<00:00,  1.66it/s]\n"
          ]
        }
      ],
      "source": [
        "url = 'https://tapemark.narod.ru/les/'\n",
        "data = []\n",
        "\n",
        "for term, link, ru_meaning in tqdm(terms_texts):\n",
        "    ru_title = search_wikipedia(term, 'ru')\n",
        "    en_title = get_interlanguage_link(ru_title, 'ru', 'en') if ru_title else None\n",
        "    ru_summary = get_wikipedia_summary(ru_title, 'ru') if ru_title else None\n",
        "    en_summary = get_wikipedia_summary(en_title, 'en') if en_title else None\n",
        "    data.append({\n",
        "        'Термин': term,\n",
        "        'Определение (RU)': ru_meaning,\n",
        "        'Перевод (EN)': en_title,\n",
        "        'Отрывок из Википедии (RU)': ru_summary,\n",
        "        'Отрывок из Википедии (EN)': en_summary,\n",
        "        'Ссылка (RU)': f\"https://ru.wikipedia.org/wiki/{'_'.join(ru_title.split())}\" if ru_title else None,\n",
        "        'Ссылка (EN)': f\"https://en.wikipedia.org/wiki/{'_'.join(en_title.split())}\" if en_title else None\n",
        "    })"
      ]
    },
    {
      "cell_type": "code",
      "execution_count": null,
      "metadata": {
        "id": "tdfY_AMc60I3"
      },
      "outputs": [],
      "source": [
        "df = pd.DataFrame(data)\n",
        "df.to_csv('linguistics.csv', index=False)"
      ]
    },
    {
      "cell_type": "markdown",
      "source": [
        "### Physics Terms"
      ],
      "metadata": {
        "id": "F68eYwdbBY7r"
      }
    },
    {
      "cell_type": "code",
      "source": [
        "from bs4 import BeautifulSoup\n",
        "\n",
        "soup = BeautifulSoup(response.content, 'html.parser')\n",
        "\n",
        "spans = soup.find_all(\"span\", title=\"физическое\")\n",
        "\n",
        "for span in spans:\n",
        "    parent_li = span.find_parent(\"li\")\n",
        "    if parent_li:\n",
        "        print(parent_li.get_text())"
      ],
      "metadata": {
        "id": "pUz8_-PrB89a"
      },
      "execution_count": null,
      "outputs": []
    },
    {
      "cell_type": "code",
      "execution_count": null,
      "metadata": {
        "id": "7_kKJyFcyuAx"
      },
      "outputs": [],
      "source": [
        "import requests\n",
        "from bs4 import BeautifulSoup\n",
        "\n",
        "def get_term_details(term_url):\n",
        "    response = requests.get(term_url)\n",
        "    soup = BeautifulSoup(response.content, 'html.parser')\n",
        "\n",
        "    # Find English translation\n",
        "    en_translation = soup.find(\"span\", lang=\"en\")\n",
        "    ru_title = search_wikipedia(term, 'ru')\n",
        "    if en_translation:\n",
        "        translation_text = en_translation.get_text()\n",
        "    else:\n",
        "        translation_text = get_interlanguage_link(ru_title, 'ru', 'en') if ru_title else None\n",
        "    end_index = translation_text.find('(') if translation_text else None\n",
        "    if end_index == -1:\n",
        "        end_index = len(translation_text)\n",
        "    if translation_text:\n",
        "        translation_text = translation_text[:end_index]\n",
        "\n",
        "    # Find the definition\n",
        "    definition_span = soup.find(\"span\", title=\"физическое\")\n",
        "    examples = soup.find_all(\"span\", class_=\"example-block\")\n",
        "    if definition_span:\n",
        "        parent_li = definition_span.find_parent(\"li\")\n",
        "        definition_text = parent_li.get_text() if parent_li else None\n",
        "    elif len(examples) == 1:\n",
        "        parent_li = examples[0].find_parent(\"li\")\n",
        "        definition_text = parent_li.get_text() if parent_li else None\n",
        "    else:\n",
        "        definition_text = get_wikipedia_summary(ru_title, 'ru') if ru_title else None\n",
        "\n",
        "    return translation_text, definition_text\n",
        "\n",
        "def get_terms_from_pages(base_url, start_path):\n",
        "    current_path = start_path\n",
        "    terms = []\n",
        "\n",
        "    while current_path:\n",
        "        current_url = base_url + current_path\n",
        "        print(f\"Обрабатываем {current_url}\")\n",
        "        response = requests.get(current_url)\n",
        "        soup = BeautifulSoup(response.content, 'html.parser')\n",
        "\n",
        "        mw_pages_div = soup.find(\"div\", id=\"mw-pages\")\n",
        "        if mw_pages_div:\n",
        "            category_div = mw_pages_div.find(\"div\", class_=\"mw-category mw-category-columns\")\n",
        "            if category_div:\n",
        "                terms_links = category_div.find_all(\"a\", href=True)\n",
        "                for link in terms_links:\n",
        "                    if '/wiki/' in link['href']:\n",
        "                        terms.append((link.text, base_url + link['href']))\n",
        "\n",
        "        next_page_link = mw_pages_div.find(\"a\", string=\"Следующая страница\") if mw_pages_div else None\n",
        "        if next_page_link and next_page_link.get(\"href\"):\n",
        "            current_path = next_page_link.get(\"href\")\n",
        "        else:\n",
        "            current_path = None\n",
        "\n",
        "    return terms"
      ]
    },
    {
      "cell_type": "code",
      "execution_count": null,
      "metadata": {
        "colab": {
          "base_uri": "https://localhost:8080/"
        },
        "id": "OZD5JSmm16Ti",
        "outputId": "417a1f3f-ac9e-41ac-984d-99ff27bf61ef"
      },
      "outputs": [
        {
          "name": "stdout",
          "output_type": "stream",
          "text": [
            "Обрабатываем https://ru.wiktionary.org/wiki/Категория:Физические_термины/ru\n",
            "Обрабатываем https://ru.wiktionary.org/w/index.php?title=%D0%9A%D0%B0%D1%82%D0%B5%D0%B3%D0%BE%D1%80%D0%B8%D1%8F:%D0%A4%D0%B8%D0%B7%D0%B8%D1%87%D0%B5%D1%81%D0%BA%D0%B8%D0%B5_%D1%82%D0%B5%D1%80%D0%BC%D0%B8%D0%BD%D1%8B/ru&pagefrom=%D0%B2%D1%8B%D1%80%D0%BE%D0%B6%D0%B4%D0%B5%D0%BD%D0%BD%D1%8B%D0%B9%0A%D0%B2%D1%8B%D1%80%D0%BE%D0%B6%D0%B4%D0%B5%D0%BD%D0%BD%D1%8B%D0%B9#mw-pages\n",
            "Обрабатываем https://ru.wiktionary.org/w/index.php?title=%D0%9A%D0%B0%D1%82%D0%B5%D0%B3%D0%BE%D1%80%D0%B8%D1%8F:%D0%A4%D0%B8%D0%B7%D0%B8%D1%87%D0%B5%D1%81%D0%BA%D0%B8%D0%B5_%D1%82%D0%B5%D1%80%D0%BC%D0%B8%D0%BD%D1%8B/ru&pagefrom=%D0%B8%D0%B7%D0%BE%D1%84%D0%BE%D1%82%D0%B0%0A%D0%B8%D0%B7%D0%BE%D1%84%D0%BE%D1%82%D0%B0#mw-pages\n",
            "Обрабатываем https://ru.wiktionary.org/w/index.php?title=%D0%9A%D0%B0%D1%82%D0%B5%D0%B3%D0%BE%D1%80%D0%B8%D1%8F:%D0%A4%D0%B8%D0%B7%D0%B8%D1%87%D0%B5%D1%81%D0%BA%D0%B8%D0%B5_%D1%82%D0%B5%D1%80%D0%BC%D0%B8%D0%BD%D1%8B/ru&pagefrom=%D0%BC%D0%B0%D1%80%D1%82%D0%B5%D0%BD%D1%81%D0%B8%D1%82%0A%D0%BC%D0%B0%D1%80%D1%82%D0%B5%D0%BD%D1%81%D0%B8%D1%82#mw-pages\n",
            "Обрабатываем https://ru.wiktionary.org/w/index.php?title=%D0%9A%D0%B0%D1%82%D0%B5%D0%B3%D0%BE%D1%80%D0%B8%D1%8F:%D0%A4%D0%B8%D0%B7%D0%B8%D1%87%D0%B5%D1%81%D0%BA%D0%B8%D0%B5_%D1%82%D0%B5%D1%80%D0%BC%D0%B8%D0%BD%D1%8B/ru&pagefrom=%D0%BF%D0%BB%D0%BE%D1%81%D0%BA%D0%BE%D0%BF%D0%B0%D1%80%D0%B0%D0%BB%D0%BB%D0%B5%D0%BB%D1%8C%D0%BD%D1%8B%D0%B9%0A%D0%BF%D0%BB%D0%BE%D1%81%D0%BA%D0%BE%D0%BF%D0%B0%D1%80%D0%B0%D0%BB%D0%BB%D0%B5%D0%BB%D1%8C%D0%BD%D1%8B%D0%B9#mw-pages\n",
            "Обрабатываем https://ru.wiktionary.org/w/index.php?title=%D0%9A%D0%B0%D1%82%D0%B5%D0%B3%D0%BE%D1%80%D0%B8%D1%8F:%D0%A4%D0%B8%D0%B7%D0%B8%D1%87%D0%B5%D1%81%D0%BA%D0%B8%D0%B5_%D1%82%D0%B5%D1%80%D0%BC%D0%B8%D0%BD%D1%8B/ru&pagefrom=%D1%81%D1%82%D0%B5%D0%BB%D0%BB%D0%B0%D1%80%D0%B0%D1%82%D0%BE%D1%80%0A%D1%81%D1%82%D0%B5%D0%BB%D0%BB%D0%B0%D1%80%D0%B0%D1%82%D0%BE%D1%80#mw-pages\n",
            "Обрабатываем https://ru.wiktionary.org/w/index.php?title=%D0%9A%D0%B0%D1%82%D0%B5%D0%B3%D0%BE%D1%80%D0%B8%D1%8F:%D0%A4%D0%B8%D0%B7%D0%B8%D1%87%D0%B5%D1%81%D0%BA%D0%B8%D0%B5_%D1%82%D0%B5%D1%80%D0%BC%D0%B8%D0%BD%D1%8B/ru&pagefrom=%D1%87%D0%B0%D1%81%D1%82%D0%BE%D1%82%D0%BD%D0%BE%D1%81%D1%82%D1%8C%0A%D1%87%D0%B0%D1%81%D1%82%D0%BE%D1%82%D0%BD%D0%BE%D1%81%D1%82%D1%8C#mw-pages\n"
          ]
        },
        {
          "name": "stderr",
          "output_type": "stream",
          "text": [
            "100%|██████████| 1282/1282 [09:38<00:00,  2.22it/s]\n"
          ]
        }
      ],
      "source": [
        "data = []\n",
        "\n",
        "base_url = \"https://ru.wiktionary.org\"\n",
        "start_path = \"/wiki/Категория:Физические_термины/ru\"\n",
        "terms = get_terms_from_pages(base_url, start_path)\n",
        "\n",
        "for term, link in tqdm(terms):\n",
        "    translation, definition = get_term_details(link)\n",
        "    data.append({\n",
        "        'Термин': term,\n",
        "        'Определение (RU)': definition,\n",
        "        'Перевод (EN)': translation,\n",
        "        'Ссылка (RU)': f\"https://ru.wiktionary.org/wiki/{'_'.join(term.split())}\",\n",
        "        'Ссылка (EN)': f\"https://en.wiktionary.org/wiki/{'_'.join(translation.split(', ')[0].split())}\" if translation else None\n",
        "    })"
      ]
    },
    {
      "cell_type": "code",
      "execution_count": null,
      "metadata": {
        "id": "baQ11bOT1TEL"
      },
      "outputs": [],
      "source": [
        "df = pd.DataFrame(data)\n",
        "df.to_csv('physics.csv', index=False)"
      ]
    },
    {
      "cell_type": "code",
      "source": [
        "csv_file = 'physics.csv'\n",
        "df = pd.read_csv(csv_file)\n",
        "\n",
        "term_definitions = {}\n",
        "\n",
        "for index, row in df.iterrows():\n",
        "    term_en = row['Перевод (EN)']\n",
        "    term_ru = row['Термин']\n",
        "    excerpt_en = get_wikipedia_summary(term_en, lang='en')\n",
        "    excerpt_ru = get_wikipedia_summary(term_ru, lang='ru')\n",
        "    term_definitions[term_en] = [excerpt_en, excerpt_ru]"
      ],
      "metadata": {
        "id": "cqHeprzvrhCp"
      },
      "execution_count": null,
      "outputs": []
    },
    {
      "cell_type": "code",
      "source": [
        "with open('term_definitions.json', 'w') as file:\n",
        "    json.dump(term_definitions, file)"
      ],
      "metadata": {
        "id": "xJbi5cA8V8Mi"
      },
      "execution_count": 23,
      "outputs": []
    },
    {
      "cell_type": "code",
      "source": [
        "with open('term_definitions.json', 'r') as file:\n",
        "    term_definitions = json.load(file)"
      ],
      "metadata": {
        "id": "Nicv9ZlSWIAk"
      },
      "execution_count": 5,
      "outputs": []
    },
    {
      "cell_type": "code",
      "source": [
        "import sqlite3\n",
        "\n",
        "conn = sqlite3.connect('phys_ParaCrawl.db')\n",
        "cursor = conn.cursor()\n",
        "\n",
        "# Update the terms table with the fetched definitions\n",
        "for term, definition in term_definitions.items():\n",
        "    cursor.execute('''\n",
        "        UPDATE terms\n",
        "        SET excerpt_en = ?, excerpt_ru = ?\n",
        "        WHERE translation_en = ?\n",
        "    ''', (definition[0], definition[1], term))\n",
        "\n",
        "conn.commit()\n",
        "conn.close()\n",
        "\n",
        "print(\"Database updated successfully.\")"
      ],
      "metadata": {
        "colab": {
          "base_uri": "https://localhost:8080/"
        },
        "id": "13sRXqA2Wb3W",
        "outputId": "fd234d60-b68d-4671-aebd-3a7c187bcfef"
      },
      "execution_count": 10,
      "outputs": [
        {
          "output_type": "stream",
          "name": "stdout",
          "text": [
            "Database updated successfully.\n"
          ]
        }
      ]
    },
    {
      "cell_type": "markdown",
      "metadata": {
        "id": "SiDCQY4rNdb5"
      },
      "source": [
        "## Creating a database with terms"
      ]
    },
    {
      "cell_type": "code",
      "execution_count": 4,
      "metadata": {
        "id": "9drHZ0c4bWTl"
      },
      "outputs": [],
      "source": [
        "import sqlite3\n",
        "import csv\n",
        "\n",
        "#db_path = 'ling_ParaCrawl.db'\n",
        "#db_path = 'ling_ted.db'\n",
        "#db_path = 'phys_ParaCrawl.db'\n",
        "#db_path = 'phys_ted.db'\n",
        "#db_path = 'ling_cyberleninka.db'\n",
        "db_path = 'phys_cyberleninka.db'\n",
        "\n",
        "conn = sqlite3.connect(db_path)\n",
        "cursor = conn.cursor()\n",
        "\n",
        "# Creating a table with terms\n",
        "cursor.execute('''\n",
        "CREATE TABLE IF NOT EXISTS terms (\n",
        "    id INTEGER PRIMARY KEY,\n",
        "    term TEXT,\n",
        "    definition_ru TEXT,\n",
        "    translation_en TEXT,\n",
        "    excerpt_ru TEXT,\n",
        "    excerpt_en TEXT,\n",
        "    link_ru TEXT,\n",
        "    link_en TEXT\n",
        ")\n",
        "''')\n",
        "\n",
        "# Creating a table with sentences and their translations\n",
        "cursor.execute('''\n",
        "CREATE TABLE IF NOT EXISTS sentences (\n",
        "    id INTEGER PRIMARY KEY,\n",
        "    context_ru TEXT,\n",
        "    context_en TEXT,\n",
        "    lemmas_ru TEXT,\n",
        "    lemmas_en TEXT\n",
        ")\n",
        "''')\n",
        "\n",
        "# Creating a table with terms and their contexts\n",
        "cursor.execute('''\n",
        "CREATE TABLE IF NOT EXISTS contexts (\n",
        "    id INTEGER PRIMARY KEY,\n",
        "    term_id INTEGER,\n",
        "    sentence_id INTEGER,\n",
        "    FOREIGN KEY (term_id) REFERENCES terms (id),\n",
        "    FOREIGN KEY (sentence_id) REFERENCES sentences (id)\n",
        ")\n",
        "''')\n",
        "\n",
        "conn.commit()"
      ]
    },
    {
      "cell_type": "code",
      "source": [
        "def import_terms_from_csv(csv_file_path):\n",
        "    with open(csv_file_path, encoding='utf-8') as csv_file:\n",
        "        csv_reader = csv.DictReader(csv_file)\n",
        "        for row in csv_reader:\n",
        "            cursor.execute('''\n",
        "            INSERT INTO terms (term, definition_ru, translation_en, excerpt_ru, excerpt_en, link_ru, link_en)\n",
        "            VALUES (?, ?, ?, ?, ?, ?, ?)\n",
        "            ''', (row['Термин'], row['Определение (RU)'], row['Перевод (EN)'], row['Отрывок из Википедии (RU)'], row['Отрывок из Википедии (EN)'], row['Ссылка (RU)'], row['Ссылка (EN)']))\n",
        "    conn.commit()\n",
        "\n",
        "csv_path = 'linguistics.csv'\n",
        "import_terms_from_csv(csv_path)\n",
        "conn.close()"
      ],
      "metadata": {
        "id": "qY7WCnDG-ywt"
      },
      "execution_count": null,
      "outputs": []
    },
    {
      "cell_type": "code",
      "execution_count": 5,
      "metadata": {
        "id": "RlC0hsHzcE_H"
      },
      "outputs": [],
      "source": [
        "def import_terms_from_csv(csv_file_path):\n",
        "    with open(csv_file_path, encoding='utf-8') as csv_file:\n",
        "        csv_reader = csv.DictReader(csv_file)\n",
        "        for row in csv_reader:\n",
        "            cursor.execute('''\n",
        "            INSERT INTO terms (term, definition_ru, translation_en, link_ru, link_en)\n",
        "            VALUES (?, ?, ?, ?, ?)\n",
        "            ''', (row['Термин'], row['Определение (RU)'], row['Перевод (EN)'], row['Ссылка (RU)'], row['Ссылка (EN)']))\n",
        "    conn.commit()\n",
        "\n",
        "csv_path = 'physics.csv'\n",
        "import_terms_from_csv(csv_path)\n",
        "conn.close()"
      ]
    },
    {
      "cell_type": "markdown",
      "metadata": {
        "id": "w2kVkBAsrJjo"
      },
      "source": [
        "## Извлечение контекстов и их переводов для выбранных терминов"
      ]
    },
    {
      "cell_type": "markdown",
      "metadata": {
        "id": "Abizo0n4v45U"
      },
      "source": [
        "### Функция лемматизации текста"
      ]
    },
    {
      "cell_type": "code",
      "execution_count": 4,
      "metadata": {
        "colab": {
          "base_uri": "https://localhost:8080/"
        },
        "id": "euDHAq5iNlqt",
        "outputId": "0b665281-0ddd-4854-8707-9166cf55f613"
      },
      "outputs": [
        {
          "output_type": "stream",
          "name": "stdout",
          "text": [
            "Collecting pymorphy2\n",
            "  Downloading pymorphy2-0.9.1-py3-none-any.whl (55 kB)\n",
            "\u001b[2K     \u001b[90m━━━━━━━━━━━━━━━━━━━━━━━━━━━━━━━━━━━━━━━━\u001b[0m \u001b[32m55.5/55.5 kB\u001b[0m \u001b[31m1.3 MB/s\u001b[0m eta \u001b[36m0:00:00\u001b[0m\n",
            "\u001b[?25hCollecting dawg-python>=0.7.1 (from pymorphy2)\n",
            "  Downloading DAWG_Python-0.7.2-py2.py3-none-any.whl (11 kB)\n",
            "Collecting pymorphy2-dicts-ru<3.0,>=2.4 (from pymorphy2)\n",
            "  Downloading pymorphy2_dicts_ru-2.4.417127.4579844-py2.py3-none-any.whl (8.2 MB)\n",
            "\u001b[2K     \u001b[90m━━━━━━━━━━━━━━━━━━━━━━━━━━━━━━━━━━━━━━━━\u001b[0m \u001b[32m8.2/8.2 MB\u001b[0m \u001b[31m39.7 MB/s\u001b[0m eta \u001b[36m0:00:00\u001b[0m\n",
            "\u001b[?25hCollecting docopt>=0.6 (from pymorphy2)\n",
            "  Downloading docopt-0.6.2.tar.gz (25 kB)\n",
            "  Preparing metadata (setup.py) ... \u001b[?25l\u001b[?25hdone\n",
            "Building wheels for collected packages: docopt\n",
            "  Building wheel for docopt (setup.py) ... \u001b[?25l\u001b[?25hdone\n",
            "  Created wheel for docopt: filename=docopt-0.6.2-py2.py3-none-any.whl size=13706 sha256=784da1e545170296e2bd23becd273aa2de705aeeb56d4578a4fb11e82ac27b00\n",
            "  Stored in directory: /root/.cache/pip/wheels/fc/ab/d4/5da2067ac95b36618c629a5f93f809425700506f72c9732fac\n",
            "Successfully built docopt\n",
            "Installing collected packages: pymorphy2-dicts-ru, docopt, dawg-python, pymorphy2\n",
            "Successfully installed dawg-python-0.7.2 docopt-0.6.2 pymorphy2-0.9.1 pymorphy2-dicts-ru-2.4.417127.4579844\n"
          ]
        }
      ],
      "source": [
        "#! pip install pymorphy2"
      ]
    },
    {
      "cell_type": "code",
      "execution_count": 5,
      "metadata": {
        "colab": {
          "base_uri": "https://localhost:8080/"
        },
        "id": "-oWr0KkPv8nd",
        "outputId": "5039afe7-6ac9-41aa-da1d-ea4a5b107cb6"
      },
      "outputs": [
        {
          "output_type": "stream",
          "name": "stderr",
          "text": [
            "[nltk_data] Downloading package stopwords to /root/nltk_data...\n",
            "[nltk_data]   Unzipping corpora/stopwords.zip.\n"
          ]
        },
        {
          "output_type": "stream",
          "name": "stdout",
          "text": [
            "EN lemmas: ['dogs', 'run', 'park']\n",
            "RU lemmas: ['собака', 'бегать', 'парка']\n"
          ]
        }
      ],
      "source": [
        "from collections import defaultdict\n",
        "import nltk\n",
        "import spacy\n",
        "import pymorphy2\n",
        "from nltk.corpus import stopwords\n",
        "from nltk.tokenize import RegexpTokenizer\n",
        "nltk.download('stopwords')\n",
        "\n",
        "# Loading SpaCy models\n",
        "nlp_en = spacy.load(\"en_core_web_sm\")\n",
        "\n",
        "# Initializing tools for Russian language\n",
        "morph_ru = pymorphy2.MorphAnalyzer()\n",
        "tokenizer = RegexpTokenizer('\\w+')\n",
        "\n",
        "# Stop words for both languages\n",
        "stops_ru = set(stopwords.words('russian'))\n",
        "stops_en = set(stopwords.words('english'))\n",
        "\n",
        "def lemmatize(text, lang='en'):\n",
        "    # For English language\n",
        "    if lang == 'en':\n",
        "        doc = nlp_en(text)\n",
        "        lemmas = [token.lemma_.lower() for token in doc if not token.is_stop and not token.is_punct and token.lemma_ != '-PRON-']\n",
        "    # For Russian language\n",
        "    elif lang == 'ru':\n",
        "        tokens = tokenizer.tokenize(text.lower())\n",
        "        lemmas = [morph_ru.parse(word)[0].normal_form for word in tokens if word not in stops_ru]\n",
        "    else:\n",
        "        raise ValueError(\"Unsupported language\")\n",
        "    return lemmas\n",
        "\n",
        "text_en = \"Dogs are running in the park.\"\n",
        "text_ru = \"Собаки бегают в парке.\"\n",
        "\n",
        "lemmas_en = lemmatize(text_en, lang='en')\n",
        "lemmas_ru = lemmatize(text_ru, lang='ru')\n",
        "\n",
        "print(\"EN lemmas:\", lemmas_en)\n",
        "print(\"RU lemmas:\", lemmas_ru)"
      ]
    },
    {
      "cell_type": "markdown",
      "metadata": {
        "id": "ifEhI2tdvS4M"
      },
      "source": [
        "### Reading a TMX file"
      ]
    },
    {
      "cell_type": "code",
      "execution_count": null,
      "metadata": {
        "id": "0jxWMGmsfpEs"
      },
      "outputs": [],
      "source": [
        "import xml.etree.ElementTree as ET\n",
        "\n",
        "def write_sentences_to_file(tmx_file_path, output_file_path):\n",
        "    with open(output_file_path, 'w', encoding='utf-8') as output_file:\n",
        "        for event, elem in ET.iterparse(tmx_file_path, events=('end',)):\n",
        "            if elem.tag.endswith('tu'):\n",
        "                source_text, target_text = None, None\n",
        "                for tuv in elem:\n",
        "                    if tuv.tag.endswith('tuv'):\n",
        "                        lang = tuv.attrib['{http://www.w3.org/XML/1998/namespace}lang']\n",
        "                        text = tuv.find('.//{*}seg').text\n",
        "                        if lang.startswith('ru'):\n",
        "                            source_text = text\n",
        "                        elif lang.startswith('en'):\n",
        "                            target_text = text\n",
        "\n",
        "                if source_text and target_text:\n",
        "                    output_file.write(f\"{source_text}\\t{target_text}\\n\")\n",
        "\n",
        "                elem.clear()\n",
        "\n",
        "#tmx_file_path = 'paracrawl_ru_en.tmx'\n",
        "tmx_file_path = 'en-ru-ted.tmx'\n",
        "output_file_path = 'ted_sentences.txt'\n",
        "write_sentences_to_file(tmx_file_path, output_file_path)"
      ]
    },
    {
      "cell_type": "markdown",
      "source": [
        "### Data to csv"
      ],
      "metadata": {
        "id": "-48G2jRPW8Vk"
      }
    },
    {
      "cell_type": "code",
      "source": [
        "def get_last_processed_id(checkpoint_path):\n",
        "    try:\n",
        "        with open(checkpoint_path, 'r', encoding='utf-8') as f:\n",
        "            last_id = int(f.read().strip())\n",
        "    except FileNotFoundError:\n",
        "        last_id = 0  # If the file is not found, start from the beginning\n",
        "    return last_id\n",
        "\n",
        "def save_last_processed_id(checkpoint_path, last_id):\n",
        "    with open(checkpoint_path, 'w', encoding='utf-8') as f:\n",
        "        f.write(str(last_id))"
      ],
      "metadata": {
        "id": "G_i01T1bTXjU"
      },
      "execution_count": null,
      "outputs": []
    },
    {
      "cell_type": "code",
      "execution_count": 6,
      "metadata": {
        "id": "e1fXeWPoC2Bd"
      },
      "outputs": [],
      "source": [
        "import csv\n",
        "from tqdm import tqdm\n",
        "\n",
        "def data_to_csv(file_path, csv_path, checkpoint_path):\n",
        "    start_id = get_last_processed_id(checkpoint_path) + 1  # Continue from the last saved ID\n",
        "\n",
        "    with open(file_path, 'r', encoding='utf-8') as file, \\\n",
        "         open(csv_path, 'a', newline='', encoding='utf-8') as csv_file:\n",
        "        csv_writer = csv.writer(csv_file, delimiter='\\t')\n",
        "\n",
        "        # csv_writer.writerow(['id', 'context_ru', 'context_en', 'lemmas_ru', 'lemmas_en'])\n",
        "\n",
        "        next(file)  # Skip the header\n",
        "\n",
        "        flush_every = 1000  # Set the interval for forced recording\n",
        "        line_count = 0  # Counter of processed lines\n",
        "\n",
        "        for _ in range(start_id - 1):\n",
        "            next(file)\n",
        "\n",
        "        for i, line in enumerate(tqdm(file, initial=start_id), start=start_id):\n",
        "            context_ru, context_en = line.strip().split('\\t', 1)\n",
        "            lemmas_ru = ' '.join(lemmatize(context_ru, lang='ru'))\n",
        "            lemmas_en = ' '.join(lemmatize(context_en))\n",
        "            csv_writer.writerow([i, context_ru, context_en, lemmas_ru, lemmas_en])\n",
        "\n",
        "            line_count += 1\n",
        "            if line_count % flush_every == 0:\n",
        "                csv_file.flush()  # Force writing data to disk\n",
        "                save_last_processed_id(checkpoint_path, i)  # Save the last processed ID\n",
        "        csv_file.flush()\n",
        "\n",
        "        save_last_processed_id(checkpoint_path, i)  # Save last line ID on exit"
      ]
    },
    {
      "cell_type": "code",
      "execution_count": 7,
      "metadata": {
        "colab": {
          "base_uri": "https://localhost:8080/"
        },
        "id": "g2ZQqLCqEt0h",
        "outputId": "e7bed1c3-9e3e-43cb-bad5-c91d27fc4f61"
      },
      "outputs": [
        {
          "output_type": "stream",
          "name": "stderr",
          "text": [
            "5918it [01:42, 57.92it/s]\n"
          ]
        }
      ],
      "source": [
        "#file_path = 'output_sentences.txt'\n",
        "#file_path = 'ted_sentences.txt'\n",
        "#file_path = 'translated_ling.txt'\n",
        "file_path = 'translated_phys.txt'\n",
        "#csv_path = 'PC_contexts.csv'\n",
        "#csv_path = 'ted_contexts.csv'\n",
        "#csv_path = 'CL_ling_contexts.csv'\n",
        "csv_path = 'CL_phys_contexts.csv'\n",
        "checkpoint_path = 'checkpoint.txt'\n",
        "data_to_csv(file_path, csv_path, checkpoint_path)"
      ]
    },
    {
      "cell_type": "markdown",
      "source": [
        "### CSV to DB"
      ],
      "metadata": {
        "id": "BrsDF96LXDr_"
      }
    },
    {
      "cell_type": "code",
      "execution_count": 8,
      "metadata": {
        "id": "iKRwzj9QFQft"
      },
      "outputs": [],
      "source": [
        "import sqlite3\n",
        "from tqdm import tqdm\n",
        "import csv\n",
        "\n",
        "def csv_to_db(csv_path, db_path):\n",
        "    conn = sqlite3.connect(db_path)\n",
        "    cursor = conn.cursor()\n",
        "\n",
        "    total_lines = sum(1 for line in open(csv_path, 'r', encoding='utf-8')) - 1  # Subtract one header line\n",
        "\n",
        "    with open(csv_path, 'r', encoding='utf-8') as csv_file:\n",
        "        reader = csv.reader(csv_file, delimiter='\\t')\n",
        "        next(reader)  # Skip the header\n",
        "\n",
        "        for line in tqdm(reader, total=total_lines, unit='line'):\n",
        "            i, context_ru, context_en, lemmas_ru, lemmas_en = line\n",
        "            cursor.execute('INSERT INTO sentences (id, context_ru, context_en, lemmas_ru, lemmas_en) VALUES (?, ?, ?, ?, ?)',\n",
        "             (i, context_ru, context_en, lemmas_ru, lemmas_en))\n",
        "\n",
        "            if (total_lines + 1) % 1000 == 0:\n",
        "                conn.commit()\n",
        "\n",
        "    conn.commit()\n",
        "    conn.close()"
      ]
    },
    {
      "cell_type": "code",
      "execution_count": 9,
      "metadata": {
        "colab": {
          "base_uri": "https://localhost:8080/"
        },
        "id": "0AkwnwNSGLUy",
        "outputId": "80e6452e-9f6c-4d36-bb4f-64a548944ddf"
      },
      "outputs": [
        {
          "output_type": "stream",
          "name": "stderr",
          "text": [
            "100%|██████████| 5916/5916 [00:00<00:00, 18940.81line/s]\n"
          ]
        }
      ],
      "source": [
        "#db_path = 'ling_ParaCrawl.db'\n",
        "#db_path = 'ling_ted.db'\n",
        "#db_path = 'phys_ParaCrawl.db'\n",
        "#db_path = 'phys_ted.db'\n",
        "#db_path = 'ling_cyberleninka.db'\n",
        "db_path = 'phys_cyberleninka.db'\n",
        "#csv_path = 'PC_contexts.csv'\n",
        "#csv_path = 'ted_contexts.csv'\n",
        "#csv_path = 'CL_ling_contexts.csv'\n",
        "csv_path = 'CL_phys_contexts.csv'\n",
        "csv_to_db(csv_path, db_path)"
      ]
    },
    {
      "cell_type": "code",
      "execution_count": 18,
      "metadata": {
        "id": "dz2fBjLDmPCP"
      },
      "outputs": [],
      "source": [
        "import sqlite3\n",
        "\n",
        "def count_sentences(db_path, table_name):\n",
        "    conn = sqlite3.connect(db_path)\n",
        "    cursor = conn.cursor()\n",
        "\n",
        "    query = f'SELECT COUNT(*) FROM {table_name}'\n",
        "    cursor.execute(query)\n",
        "    count = cursor.fetchone()[0]\n",
        "\n",
        "    cursor.close()\n",
        "    conn.close()\n",
        "\n",
        "    return count"
      ]
    },
    {
      "cell_type": "code",
      "source": [
        "#db_path = 'ling_ParaCrawl.db'\n",
        "#db_path = 'phys_ParaCrawl.db'\n",
        "db_path = 'ling_cyberleninka.db'\n",
        "table_name = 'sentences'\n",
        "sentence_count = count_sentences(db_path, table_name)\n",
        "print(f\"Total sentences in the table '{table_name}': {sentence_count}\")"
      ],
      "metadata": {
        "id": "hdTis2IPzF0w"
      },
      "execution_count": null,
      "outputs": []
    },
    {
      "cell_type": "markdown",
      "metadata": {
        "id": "Dm4-zB9pvctu"
      },
      "source": [
        "### Applying lemmatization and creating a reverse index\n",
        "\n"
      ]
    },
    {
      "cell_type": "code",
      "execution_count": 10,
      "metadata": {
        "id": "sjMNKZ_rvk0S"
      },
      "outputs": [],
      "source": [
        "from collections import defaultdict\n",
        "\n",
        "def create_reverse_index_from_db(sentences_with_ids):\n",
        "    reverse_index = defaultdict(list)\n",
        "\n",
        "    for sentence_id, lemmas_ru in sentences_with_ids:\n",
        "        for lemma in lemmas_ru.split():\n",
        "            reverse_index[lemma].append(sentence_id)\n",
        "\n",
        "    return reverse_index"
      ]
    },
    {
      "cell_type": "markdown",
      "metadata": {
        "id": "s0qmuyI4vfOV"
      },
      "source": [
        "### Using a reverse index\n"
      ]
    },
    {
      "cell_type": "code",
      "execution_count": 11,
      "metadata": {
        "id": "HEZZ2wvjvuFk"
      },
      "outputs": [],
      "source": [
        "import sqlite3\n",
        "\n",
        "def get_source_text_with_ids(db_path, limit=100000, offset=0):\n",
        "    conn = sqlite3.connect(db_path)\n",
        "    cursor = conn.cursor()\n",
        "\n",
        "    cursor.execute('SELECT id, lemmas_ru FROM sentences LIMIT ? OFFSET ?', (limit, offset))\n",
        "    sentences_with_ids = cursor.fetchall()\n",
        "\n",
        "    cursor.close()\n",
        "    conn.close()\n",
        "\n",
        "    return sentences_with_ids"
      ]
    },
    {
      "cell_type": "code",
      "execution_count": 12,
      "metadata": {
        "colab": {
          "base_uri": "https://localhost:8080/"
        },
        "id": "YeQoyn2PBa4n",
        "outputId": "d365bc87-fd71-47c2-9930-0e293d0fc1f5"
      },
      "outputs": [
        {
          "output_type": "stream",
          "name": "stdout",
          "text": [
            "Loaded 5916 pairs of IDs and Russian sentences.\n"
          ]
        }
      ],
      "source": [
        "# Retrieving data from the database\n",
        "#db_path = 'ling_ParaCrawl.db'\n",
        "#db_path = 'ling_ted.db'\n",
        "#db_path = 'phys_ParaCrawl.db'\n",
        "#db_path = 'phys_ted.db'\n",
        "#db_path = 'ling_cyberleninka.db'\n",
        "db_path = 'phys_cyberleninka.db'\n",
        "\n",
        "sentences_with_ids = get_source_text_with_ids(db_path, limit=500000)\n",
        "print(f\"Loaded {len(sentences_with_ids)} pairs of IDs and Russian sentences.\")"
      ]
    },
    {
      "cell_type": "code",
      "execution_count": 13,
      "metadata": {
        "id": "kjLT3_IrwYlk"
      },
      "outputs": [],
      "source": [
        "def process_all_data_and_collect(db_path):\n",
        "    batch_size = 500000\n",
        "    offset = 0\n",
        "    all_sentences = []\n",
        "\n",
        "    while True:\n",
        "        data_batch = get_source_text_with_ids(db_path, limit=batch_size, offset=offset)\n",
        "\n",
        "        if not data_batch:\n",
        "            break\n",
        "\n",
        "        all_sentences.extend(data_batch)\n",
        "\n",
        "        offset += batch_size\n",
        "        print(f\"Processed {offset} rows so far...\")\n",
        "\n",
        "    return all_sentences"
      ]
    },
    {
      "cell_type": "code",
      "execution_count": null,
      "metadata": {
        "colab": {
          "base_uri": "https://localhost:8080/"
        },
        "id": "TBbTM1ruwbzk",
        "outputId": "81609830-0719-45c8-e68d-07b148b201fc"
      },
      "outputs": [
        {
          "name": "stdout",
          "output_type": "stream",
          "text": [
            "Processed 500000 rows so far...\n",
            "Processed 1000000 rows so far...\n",
            "Processed 1500000 rows so far...\n",
            "Processed 2000000 rows so far...\n",
            "Processed 2500000 rows so far...\n",
            "Processed 3000000 rows so far...\n",
            "Processed 3500000 rows so far...\n",
            "Processed 4000000 rows so far...\n",
            "Processed 4500000 rows so far...\n",
            "Processed 5000000 rows so far...\n",
            "Processed 5500000 rows so far...\n",
            "Total sentences collected: 5377348\n"
          ]
        }
      ],
      "source": [
        "db_path = 'phys_ParaCrawl.db'\n",
        "all_sentences = process_all_data_and_collect(db_path)\n",
        "print(f\"Total sentences collected: {len(all_sentences)}\")"
      ]
    },
    {
      "cell_type": "code",
      "execution_count": 14,
      "metadata": {
        "id": "psFOKhimGFE6"
      },
      "outputs": [],
      "source": [
        "reverse_index = create_reverse_index_from_db(all_sentences)"
      ]
    },
    {
      "cell_type": "code",
      "execution_count": 15,
      "metadata": {
        "colab": {
          "base_uri": "https://localhost:8080/"
        },
        "id": "1KPwOqNZ3Wy-",
        "outputId": "7b88c7d9-2d28-4747-8f8e-b358f50ca121"
      },
      "outputs": [
        {
          "output_type": "stream",
          "name": "stdout",
          "text": [
            "10957\n"
          ]
        }
      ],
      "source": [
        "print(len(reverse_index))"
      ]
    },
    {
      "cell_type": "code",
      "execution_count": 16,
      "metadata": {
        "colab": {
          "base_uri": "https://localhost:8080/"
        },
        "id": "nUAK7MpV1KV2",
        "outputId": "0085f1e9-7868-4efe-9113-1e92584095c3"
      },
      "outputs": [
        {
          "output_type": "stream",
          "name": "stderr",
          "text": [
            "100%|██████████| 1282/1282 [00:19<00:00, 67.47it/s]\n"
          ]
        }
      ],
      "source": [
        "from tqdm import tqdm\n",
        "\n",
        "#db_path = 'ling_ParaCrawl.db'\n",
        "#db_path = 'ling_ted.db'\n",
        "#db_path = 'phys_ParaCrawl.db'\n",
        "#db_path = 'phys_ted.db'\n",
        "#db_path = 'ling_cyberleninka.db'\n",
        "db_path = 'phys_cyberleninka.db'\n",
        "conn = sqlite3.connect(db_path)\n",
        "cursor = conn.cursor()\n",
        "\n",
        "cursor.execute('SELECT id, term FROM terms')\n",
        "terms = cursor.fetchall()\n",
        "\n",
        "contexts_to_insert = []\n",
        "\n",
        "for term_id, term in tqdm(terms):\n",
        "    # Lemmatize the phrase\n",
        "    term_lemmas = lemmatize(term)\n",
        "    lemmatized_term = ' '.join(term_lemmas)\n",
        "\n",
        "    # Find all unique sentences that contain at least one word from the phrase\n",
        "    potential_sentence_ids = set()\n",
        "    for word in term_lemmas:\n",
        "        if word in reverse_index:\n",
        "            potential_sentence_ids.update(reverse_index[word])\n",
        "\n",
        "    # Check each potential sentence for the entire phrase\n",
        "    for sentence_id in potential_sentence_ids:\n",
        "        cursor.execute('SELECT lemmas_ru FROM sentences WHERE id = ?', (sentence_id,))\n",
        "        sentence = cursor.fetchone()[0]\n",
        "        if lemmatized_term in sentence:\n",
        "            contexts_to_insert.append((term_id, sentence_id))\n",
        "\n",
        "cursor.executemany('INSERT INTO contexts (term_id, sentence_id) VALUES (?, ?)', contexts_to_insert)\n",
        "\n",
        "conn.commit()\n",
        "conn.close()"
      ]
    },
    {
      "cell_type": "code",
      "execution_count": 19,
      "metadata": {
        "colab": {
          "base_uri": "https://localhost:8080/"
        },
        "id": "bpmrExjl49s1",
        "outputId": "dec77861-e39d-4646-9a6f-da27343438b6"
      },
      "outputs": [
        {
          "output_type": "stream",
          "name": "stdout",
          "text": [
            "Total sentences in the table 'contexts': 10068\n"
          ]
        }
      ],
      "source": [
        "#db_path = 'ling_ParaCrawl.db'\n",
        "#db_path = 'phys_ParaCrawl.db'\n",
        "#db_path = 'phys_ted.db'\n",
        "#db_path = 'ling_cyberleninka.db'\n",
        "db_path = 'phys_cyberleninka.db'\n",
        "table_name = 'contexts'\n",
        "sentence_count = count_sentences(db_path, table_name)\n",
        "print(f\"Total sentences in the table '{table_name}': {sentence_count}\")"
      ]
    },
    {
      "cell_type": "markdown",
      "metadata": {
        "id": "mjdl6eBUSlX9"
      },
      "source": [
        "### Filtering contexts by translations\n",
        "\n"
      ]
    },
    {
      "cell_type": "code",
      "execution_count": 64,
      "metadata": {
        "id": "iS9Nj35uCozf"
      },
      "outputs": [],
      "source": [
        "import sqlite3\n",
        "\n",
        "#db_path = 'ling_ParaCrawl.db'\n",
        "#db_path = 'ling_ted.db'\n",
        "#db_path = 'phys_ParaCrawl.db'\n",
        "#db_path = 'phys_ted.db'\n",
        "db_path = 'ling_cyberleninka.db'\n",
        "conn = sqlite3.connect(db_path)\n",
        "cursor = conn.cursor()"
      ]
    },
    {
      "cell_type": "code",
      "execution_count": 66,
      "metadata": {
        "id": "CX8LKE0OpqDF"
      },
      "outputs": [],
      "source": [
        "cursor.execute(\"SELECT id, translation_en FROM terms\")\n",
        "data_from_db = cursor.fetchall()"
      ]
    },
    {
      "cell_type": "code",
      "execution_count": 68,
      "metadata": {
        "colab": {
          "base_uri": "https://localhost:8080/"
        },
        "id": "l12cY0Kor8tM",
        "outputId": "83b007d1-ce85-4b73-d00a-c112e00a037a"
      },
      "outputs": [
        {
          "output_type": "execute_result",
          "data": {
            "text/plain": [
              "<sqlite3.Cursor at 0x7c5688eb43c0>"
            ]
          },
          "metadata": {},
          "execution_count": 68
        }
      ],
      "source": [
        "lemmatized_terms = [(id, ' '.join(lemmatize(translation_en))) for id, translation_en in data_from_db]\n",
        "\n",
        "cursor.execute(\"CREATE TEMPORARY TABLE en_lemmas (id INTEGER, lemmas_en TEXT)\")\n",
        "cursor.executemany(\"INSERT INTO en_lemmas (id, lemmas_en) VALUES (?, ?)\", lemmatized_terms)"
      ]
    },
    {
      "cell_type": "code",
      "execution_count": 69,
      "metadata": {
        "colab": {
          "base_uri": "https://localhost:8080/"
        },
        "id": "AXwCOR1Nr51o",
        "outputId": "9c335b9a-0edd-4310-bb92-38e85d4c44d7"
      },
      "outputs": [
        {
          "output_type": "execute_result",
          "data": {
            "text/plain": [
              "<sqlite3.Cursor at 0x7c5688eb43c0>"
            ]
          },
          "metadata": {},
          "execution_count": 69
        }
      ],
      "source": [
        "cursor.execute(\"\"\"\n",
        "SELECT c.*\n",
        "FROM contexts c\n",
        "JOIN terms t ON c.term_id = t.id\n",
        "JOIN sentences s ON c.sentence_id = s.id\n",
        "JOIN en_lemmas el ON t.id = el.id\n",
        "WHERE s.lemmas_en LIKE '%' || el.lemmas_en || '%'\n",
        "\"\"\")"
      ]
    },
    {
      "cell_type": "code",
      "execution_count": 70,
      "metadata": {
        "id": "cbs_Z1fQry87"
      },
      "outputs": [],
      "source": [
        "filtered_contexts = cursor.fetchall()\n",
        "\n",
        "if filtered_contexts:\n",
        "    cursor.execute(\"DELETE FROM contexts\")\n",
        "\n",
        "    placeholders = ', '.join(['?'] * len(filtered_contexts[0]))\n",
        "    insert_query = f\"INSERT INTO contexts VALUES ({placeholders})\"\n",
        "\n",
        "    cursor.executemany(insert_query, filtered_contexts)\n",
        "\n",
        "    conn.commit()"
      ]
    },
    {
      "cell_type": "code",
      "execution_count": 71,
      "metadata": {
        "id": "1va5ZOCoyO1H"
      },
      "outputs": [],
      "source": [
        "cursor.execute(\"SELECT * FROM contexts\")\n",
        "new_contexts = cursor.fetchall()"
      ]
    },
    {
      "cell_type": "code",
      "execution_count": 72,
      "metadata": {
        "colab": {
          "base_uri": "https://localhost:8080/"
        },
        "id": "WFjtycGuy6cO",
        "outputId": "a8e940f9-4396-4196-9b38-55be0df8a315"
      },
      "outputs": [
        {
          "output_type": "execute_result",
          "data": {
            "text/plain": [
              "7307"
            ]
          },
          "metadata": {},
          "execution_count": 72
        }
      ],
      "source": [
        "len(new_contexts)"
      ]
    },
    {
      "cell_type": "markdown",
      "metadata": {
        "id": "UJypZG6dmPQ-"
      },
      "source": [
        "### Перевод тематических текстов"
      ]
    },
    {
      "cell_type": "code",
      "execution_count": 6,
      "metadata": {
        "id": "4mnqkNfSmOeM"
      },
      "outputs": [],
      "source": [
        "import re\n",
        "from tqdm import tqdm\n",
        "\n",
        "def preprocess_article(article):\n",
        "    # Removing square brackets and their content\n",
        "    article = re.sub(r'\\[.*?\\]', '', article)\n",
        "\n",
        "    # Removing lines that start with a dotted number and end with a date\n",
        "    article = re.sub(r'^\\d+\\..*?\\d{4}\\.', '', article, flags=re.MULTILINE)\n",
        "\n",
        "    # Removing lines containing only Latin characters, punctuation and numbers\n",
        "    article = re.sub(r'^[a-zA-Z0-9\\s.,!?;-]*$', '', article, flags=re.MULTILINE)\n",
        "\n",
        "    # Removing short lines (less than 10 characters)\n",
        "    article = re.sub(r'^.{1,9}$', '', article, flags=re.MULTILINE)\n",
        "\n",
        "    # Search and remove all text up to \"Key words:\" or \"Ключевые слова:\", including that line up to the first dot\n",
        "    match = re.search(r'\\s(Key words:.*?\\.|\\nКлючевые слова:.*?\\.)', article, flags=re.DOTALL)\n",
        "    if match:\n",
        "        start_pos = match.end()\n",
        "        article = article[start_pos:]\n",
        "\n",
        "    # Removing text starting with \"СПИСОК ЛИТЕРАТУРЫ\" or \"ЛИТЕРАТУРА\", including these lines\n",
        "    article = re.split(r'\\sСПИСОК ЛИТЕРАТУРЫ\\n\\s*|\\sЛИТЕРАТУРА\\n\\s*|\\sЛИТЕРАТУРА\\n\\s*|\\sБИБЛИОГРАФИЧЕСКИЙ СПИСОК\\n\\s*|\\sПРИМЕЧАНИЯ\\n\\s*', article, flags=re.IGNORECASE | re.DOTALL, maxsplit=1)[0]\n",
        "\n",
        "    # Removing empty paragraphs\n",
        "    article = re.sub(r'\\n\\s*\\n', '\\n', article)\n",
        "\n",
        "    # Concatenate lines where the line does not end with punctuation with the next line\n",
        "    article = re.sub(r'([^\\.\\?\\!])\\n', r'\\1 ', article)\n",
        "\n",
        "    # Joining words separated by a hyphen\n",
        "    article = re.sub(r'(\\w+)-\\s*\\n\\s*(\\w+)', r'\\1\\2', article)\n",
        "    article = re.sub(r'(\\w+)-\\s+(\\w+)', r'\\1\\2', article)\n",
        "\n",
        "    # Removing extra line breaks and spaces\n",
        "    article = re.sub(r'\\s+', ' ', article).strip()\n",
        "\n",
        "    return article"
      ]
    },
    {
      "cell_type": "code",
      "execution_count": 8,
      "metadata": {
        "colab": {
          "base_uri": "https://localhost:8080/"
        },
        "id": "bhr-IPsf5AXZ",
        "outputId": "30add81d-b1b9-4159-b4a6-318b4f8d1166"
      },
      "outputs": [
        {
          "output_type": "stream",
          "name": "stderr",
          "text": [
            "10605680it [05:41, 31016.60it/s]\n"
          ]
        }
      ],
      "source": [
        "def process_file(file_path, output_path):\n",
        "    with open(file_path, 'r', encoding='utf-8') as file, \\\n",
        "         open(output_path, 'w', encoding='utf-8') as output_file:\n",
        "\n",
        "        article = \"\"\n",
        "        article_started = False  # Flag to track the beginning of the article\n",
        "        for line in tqdm(file):\n",
        "            if line.strip() == \"=====\":\n",
        "                if article_started and article:\n",
        "                    processed_article = preprocess_article(article)\n",
        "                    output_file.write(processed_article + \"\\n\\n\")\n",
        "                    article = \"\"\n",
        "                article_started = True  # Start a new article after meeting the separator\n",
        "            else:\n",
        "                if article_started:\n",
        "                    article += line\n",
        "\n",
        "        if article_started and article:\n",
        "            processed_article = preprocess_article(article)\n",
        "            output_file.write(processed_article + \"\\n\\n\")\n",
        "\n",
        "#file_path = 'all_cyberleninka_lang2.txt'\n",
        "file_path = 'all_cyberleninka_physics2.txt'\n",
        "#output_path = 'preprocessed_ling.txt'\n",
        "output_path = 'preprocessed_phys.txt'\n",
        "\n",
        "process_file(file_path, output_path)"
      ]
    },
    {
      "cell_type": "code",
      "execution_count": 9,
      "metadata": {
        "colab": {
          "base_uri": "https://localhost:8080/"
        },
        "id": "CtB7VREUTLmg",
        "outputId": "e8b10100-7d13-4873-85c4-4bf6ac5a54a9"
      },
      "outputs": [
        {
          "output_type": "stream",
          "name": "stderr",
          "text": [
            "[nltk_data] Downloading package punkt to /root/nltk_data...\n",
            "[nltk_data]   Unzipping tokenizers/punkt.zip.\n",
            "[nltk_data] Downloading package stopwords to /root/nltk_data...\n",
            "[nltk_data]   Package stopwords is already up-to-date!\n"
          ]
        }
      ],
      "source": [
        "import nltk\n",
        "nltk.download('punkt')\n",
        "from nltk.tokenize import sent_tokenize\n",
        "from nltk.corpus import stopwords\n",
        "from nltk.tokenize import RegexpTokenizer\n",
        "nltk.download('stopwords')\n",
        "\n",
        "#input_file_path = 'preprocessed_ling.txt'\n",
        "input_file_path = 'preprocessed_phys.txt'\n",
        "#intermediate_file_path = 'sentences_ling.txt'\n",
        "intermediate_file_path = 'sentences_phys.txt'\n",
        "\n",
        "with open(input_file_path, 'r', encoding='utf-8') as input_file, \\\n",
        "     open(intermediate_file_path, 'w', encoding='utf-8') as intermediate_file:\n",
        "    for line in input_file:\n",
        "        line = line.strip()\n",
        "        if line:  # Skip empty lines\n",
        "            sentences = sent_tokenize(line, language='russian')\n",
        "            for sentence in sentences:\n",
        "                intermediate_file.write(sentence + \"\\n\")"
      ]
    },
    {
      "cell_type": "code",
      "execution_count": 10,
      "metadata": {
        "id": "t4t6m9LQVg7N"
      },
      "outputs": [],
      "source": [
        "def is_valid_sentence(sentence):\n",
        "    if re.search(r'\\b(?:19|20)\\d{2}\\b', sentence):  # Looking for years\n",
        "        return False\n",
        "    if re.search(r'\\b№\\s*\\d+', sentence):  # Looking for numbers\n",
        "        return False\n",
        "    if re.search(r'\\bС\\.\\s*\\d+', sentence):  # Looking for links to pages\n",
        "        return False\n",
        "    if re.search(r'^\\d+\\.$', sentence.strip()):  # Looking for lines consisting only of a number with a dot\n",
        "        return False\n",
        "    if re.match(r'^\\d+\\.', sentence.strip()):  # Looking for lines starting with a number and a period\n",
        "        return False\n",
        "    return True\n",
        "\n",
        "#input_file_path = 'sentences_ling.txt'\n",
        "input_file_path = 'sentences_phys.txt'\n",
        "#output_file_path = 'filtered_ling.txt'\n",
        "output_file_path = 'filtered_phys.txt'\n",
        "\n",
        "with open(input_file_path, 'r', encoding='utf-8') as input_file, \\\n",
        "     open(output_file_path, 'w', encoding='utf-8') as output_file:\n",
        "    for line in input_file:\n",
        "        if is_valid_sentence(line):\n",
        "            output_file.write(line)"
      ]
    },
    {
      "cell_type": "code",
      "execution_count": 4,
      "metadata": {
        "colab": {
          "base_uri": "https://localhost:8080/"
        },
        "id": "7S1M8YzA3T0n",
        "outputId": "bf05d5f7-3fa6-4d60-f35e-c81855f12731"
      },
      "outputs": [
        {
          "output_type": "stream",
          "name": "stdout",
          "text": [
            "Requirement already satisfied: nltk in /usr/local/lib/python3.10/dist-packages (3.8.1)\n",
            "Requirement already satisfied: transformers in /usr/local/lib/python3.10/dist-packages (4.40.1)\n",
            "Requirement already satisfied: click in /usr/local/lib/python3.10/dist-packages (from nltk) (8.1.7)\n",
            "Requirement already satisfied: joblib in /usr/local/lib/python3.10/dist-packages (from nltk) (1.4.0)\n",
            "Requirement already satisfied: regex>=2021.8.3 in /usr/local/lib/python3.10/dist-packages (from nltk) (2023.12.25)\n",
            "Requirement already satisfied: tqdm in /usr/local/lib/python3.10/dist-packages (from nltk) (4.66.2)\n",
            "Requirement already satisfied: filelock in /usr/local/lib/python3.10/dist-packages (from transformers) (3.13.4)\n",
            "Requirement already satisfied: huggingface-hub<1.0,>=0.19.3 in /usr/local/lib/python3.10/dist-packages (from transformers) (0.20.3)\n",
            "Requirement already satisfied: numpy>=1.17 in /usr/local/lib/python3.10/dist-packages (from transformers) (1.25.2)\n",
            "Requirement already satisfied: packaging>=20.0 in /usr/local/lib/python3.10/dist-packages (from transformers) (24.0)\n",
            "Requirement already satisfied: pyyaml>=5.1 in /usr/local/lib/python3.10/dist-packages (from transformers) (6.0.1)\n",
            "Requirement already satisfied: requests in /usr/local/lib/python3.10/dist-packages (from transformers) (2.31.0)\n",
            "Requirement already satisfied: tokenizers<0.20,>=0.19 in /usr/local/lib/python3.10/dist-packages (from transformers) (0.19.1)\n",
            "Requirement already satisfied: safetensors>=0.4.1 in /usr/local/lib/python3.10/dist-packages (from transformers) (0.4.3)\n",
            "Requirement already satisfied: fsspec>=2023.5.0 in /usr/local/lib/python3.10/dist-packages (from huggingface-hub<1.0,>=0.19.3->transformers) (2023.6.0)\n",
            "Requirement already satisfied: typing-extensions>=3.7.4.3 in /usr/local/lib/python3.10/dist-packages (from huggingface-hub<1.0,>=0.19.3->transformers) (4.11.0)\n",
            "Requirement already satisfied: charset-normalizer<4,>=2 in /usr/local/lib/python3.10/dist-packages (from requests->transformers) (3.3.2)\n",
            "Requirement already satisfied: idna<4,>=2.5 in /usr/local/lib/python3.10/dist-packages (from requests->transformers) (3.7)\n",
            "Requirement already satisfied: urllib3<3,>=1.21.1 in /usr/local/lib/python3.10/dist-packages (from requests->transformers) (2.0.7)\n",
            "Requirement already satisfied: certifi>=2017.4.17 in /usr/local/lib/python3.10/dist-packages (from requests->transformers) (2024.2.2)\n"
          ]
        }
      ],
      "source": [
        "!pip install nltk transformers"
      ]
    },
    {
      "cell_type": "code",
      "execution_count": 5,
      "metadata": {
        "colab": {
          "base_uri": "https://localhost:8080/",
          "height": 440,
          "referenced_widgets": [
            "865a0de60b5e472d9cde8bff42b28cf0",
            "4d3932817e3244678dfc016074e6513c",
            "6411e18f356b43df92f611e5f3b3502b",
            "611f17cfb4a243939ba29ed69e616b06",
            "ee9f8925132c4838972e1620d06b0c1f",
            "4ec8c37bac7140888be6892dfa57d1c7",
            "c1bf1bc4692f4e41a9e870719584f5cd",
            "be560f1a90cb4f69aa7c4cbb86fdf732",
            "90e94b55f4dd4403b1b8351d5707fe3a",
            "6f800e0181844644aee079fc5b273e23",
            "8bfda873fdcb41a6a4ef12ec2515f58a",
            "046b39c73a174e5bb51390b23f61a864",
            "d1939116291949af97b9f4d04497776e",
            "636950f5af17432588ea6e14f7cd1eb9",
            "1e483bea04ef4fc496c8e20597815ec9",
            "3c0843ecea1845759d28e06155448180",
            "77caa9d9d6604b0590917f595bad42f8",
            "3e0ccb36e94c4b31ae3909684342eb9b",
            "9da03396b2fa41e28f7d9633a3967a35",
            "e16ac5dc32084a69b58acc853b654676",
            "935a4def9f4a48999991a35385466bdb",
            "d34d967e7816491fac03a64fb00d9c60",
            "a8124c079f8441778e4e8fe8f47635a7",
            "4f83074a5dd74c179d9e3b184474bc76",
            "bc9b6431e7a94c2e9ae4f7e8d3ac7e4c",
            "2b47809db25e4f898c32533bf5ba8450",
            "1d7045001aeb42a0b3e3305d2cb235c1",
            "2509b5bf2e9d45dfa999ffd62192c83f",
            "31dfc935e9794d47bf0c75cd4f6adc26",
            "adb9191fad6c47ceba3bc57d902286ad",
            "939a4ff45b2f49929a0cd7f79057136d",
            "1a3ce0d91e1b4770959c79fc8f769f28",
            "e4175ccfc3a946b995d263baa17a256d",
            "b405def7c8db4dd0b4be66108783f791",
            "6a85a5b74aa14676b34e6a46c6fffe14",
            "f37e028ffbfd47239815fe57a3a77fb1",
            "298670dec43044819bc7beee9e077d12",
            "dfff964a8dce400a896439846089213c",
            "fae9732a19cb445597ed7db561a8eef5",
            "39757fb5235a48b3a29f6987f3d65206",
            "2f3de7ab1b59460d90d7aaf9183cc98d",
            "01856555e0ba45f2ac0d093f6d1eeaf8",
            "93ce59bf4a504b4d8ddbfb098c2cf105",
            "21646b243fc646e1a94658c1d7a38947",
            "6dfd4b70ba0d45d5b629a5ab582e9aa5",
            "062df92e914342c9a10f8bf817736727",
            "e0b9cf0e9fed4285b15a0aa2278294a1",
            "b269424074404b599b20241d00578f5f",
            "a882ca311eba4c38a8b1b2bf73ec66ef",
            "fe692d340e0540d696c049d40023f412",
            "0234d315fb4d445cbea0d54913ec8d07",
            "ff581a77f9bc44a6936890884b49bf4a",
            "6c6e34a29d734977890ab2bb40cb1da4",
            "ee751389e7064760a16709f1eee2ff7b",
            "12f090d3a9a8404e83a637b5b90a116e",
            "dcb812d5096a4a57a491ea1d50c30f36",
            "4ede29eda02e4765beffddbb8d8e4f12",
            "bada754df6cf4b32aae114a4cac760fc",
            "e98afec751b74196aaddcbca85b0cc44",
            "340a9c4c833e450097b9feb39935f2e8",
            "a181f53e6f4542a0ae678809699954bd",
            "2f15e5853b724f3cb941633741cefc31",
            "d8b44bad86f74234b2bf79644eabda31",
            "9abefd195aed416ebf762f0926843b86",
            "421e9d11773b4bb4b72389dfc642572a",
            "b035fac2ef32432a845cdde551b5b99e",
            "7a7f30380ea44af483e4b92505a51d1b",
            "f69ff634ace24c5187ec014dd1888712",
            "b91489d383ab4567879840aad3bd3c20",
            "6ee78cee66324d97ae25d43d99392c7e",
            "a2f9129acbdf417f9174bf9086bf1f80",
            "63107d5b55be4607aa507773cf7479a4",
            "102cdf719846422f9a7b65896f424bcb",
            "c398f77a55cb4373b2a17344c72c2130",
            "986446e76f0a428bac73a3bb71f3ba30",
            "761f8040b3544dc6ac6bf282e5fd5bfa",
            "8a32ecaa48bf4e9ca1734b0159c31ba8"
          ]
        },
        "id": "fr27rycs3XC8",
        "outputId": "c9edbecb-447b-4135-cbd9-24bdd95caafc"
      },
      "outputs": [
        {
          "output_type": "stream",
          "name": "stderr",
          "text": [
            "[nltk_data] Downloading package punkt to /root/nltk_data...\n",
            "[nltk_data]   Unzipping tokenizers/punkt.zip.\n",
            "[nltk_data] Downloading package stopwords to /root/nltk_data...\n",
            "[nltk_data]   Unzipping corpora/stopwords.zip.\n",
            "/usr/local/lib/python3.10/dist-packages/huggingface_hub/utils/_token.py:88: UserWarning: \n",
            "The secret `HF_TOKEN` does not exist in your Colab secrets.\n",
            "To authenticate with the Hugging Face Hub, create a token in your settings tab (https://huggingface.co/settings/tokens), set it as secret in your Google Colab and restart your session.\n",
            "You will be able to reuse this secret in all of your notebooks.\n",
            "Please note that authentication is recommended but still optional to access public models or datasets.\n",
            "  warnings.warn(\n"
          ]
        },
        {
          "output_type": "display_data",
          "data": {
            "text/plain": [
              "tokenizer_config.json:   0%|          | 0.00/298 [00:00<?, ?B/s]"
            ],
            "application/vnd.jupyter.widget-view+json": {
              "version_major": 2,
              "version_minor": 0,
              "model_id": "865a0de60b5e472d9cde8bff42b28cf0"
            }
          },
          "metadata": {}
        },
        {
          "output_type": "display_data",
          "data": {
            "text/plain": [
              "vocab.json:   0%|          | 0.00/3.71M [00:00<?, ?B/s]"
            ],
            "application/vnd.jupyter.widget-view+json": {
              "version_major": 2,
              "version_minor": 0,
              "model_id": "046b39c73a174e5bb51390b23f61a864"
            }
          },
          "metadata": {}
        },
        {
          "output_type": "display_data",
          "data": {
            "text/plain": [
              "sentencepiece.bpe.model:   0%|          | 0.00/2.42M [00:00<?, ?B/s]"
            ],
            "application/vnd.jupyter.widget-view+json": {
              "version_major": 2,
              "version_minor": 0,
              "model_id": "a8124c079f8441778e4e8fe8f47635a7"
            }
          },
          "metadata": {}
        },
        {
          "output_type": "display_data",
          "data": {
            "text/plain": [
              "special_tokens_map.json:   0%|          | 0.00/1.14k [00:00<?, ?B/s]"
            ],
            "application/vnd.jupyter.widget-view+json": {
              "version_major": 2,
              "version_minor": 0,
              "model_id": "b405def7c8db4dd0b4be66108783f791"
            }
          },
          "metadata": {}
        },
        {
          "output_type": "display_data",
          "data": {
            "text/plain": [
              "config.json:   0%|          | 0.00/908 [00:00<?, ?B/s]"
            ],
            "application/vnd.jupyter.widget-view+json": {
              "version_major": 2,
              "version_minor": 0,
              "model_id": "6dfd4b70ba0d45d5b629a5ab582e9aa5"
            }
          },
          "metadata": {}
        },
        {
          "output_type": "display_data",
          "data": {
            "text/plain": [
              "pytorch_model.bin:   0%|          | 0.00/1.94G [00:00<?, ?B/s]"
            ],
            "application/vnd.jupyter.widget-view+json": {
              "version_major": 2,
              "version_minor": 0,
              "model_id": "dcb812d5096a4a57a491ea1d50c30f36"
            }
          },
          "metadata": {}
        },
        {
          "output_type": "display_data",
          "data": {
            "text/plain": [
              "generation_config.json:   0%|          | 0.00/233 [00:00<?, ?B/s]"
            ],
            "application/vnd.jupyter.widget-view+json": {
              "version_major": 2,
              "version_minor": 0,
              "model_id": "7a7f30380ea44af483e4b92505a51d1b"
            }
          },
          "metadata": {}
        }
      ],
      "source": [
        "import nltk\n",
        "nltk.download('punkt')\n",
        "from nltk.tokenize import sent_tokenize\n",
        "from nltk.corpus import stopwords\n",
        "from nltk.tokenize import RegexpTokenizer\n",
        "nltk.download('stopwords')\n",
        "\n",
        "from transformers import M2M100ForConditionalGeneration, M2M100Tokenizer\n",
        "import torch\n",
        "\n",
        "model_name = \"facebook/m2m100_418M\"\n",
        "tokenizer = M2M100Tokenizer.from_pretrained(model_name)\n",
        "model = M2M100ForConditionalGeneration.from_pretrained(model_name)\n",
        "\n",
        "src_lang = \"ru\"\n",
        "tgt_lang = \"en\"\n",
        "tokenizer.src_lang = src_lang\n",
        "\n",
        "def translate(text):\n",
        "    encoded = tokenizer(text, return_tensors=\"pt\")\n",
        "    generated_tokens = model.generate(**encoded, forced_bos_token_id=tokenizer.get_lang_id(tgt_lang))\n",
        "    return tokenizer.batch_decode(generated_tokens, skip_special_tokens=True)[0]"
      ]
    },
    {
      "cell_type": "code",
      "execution_count": null,
      "metadata": {
        "colab": {
          "base_uri": "https://localhost:8080/",
          "height": 35
        },
        "id": "jqNMKvDNQC19",
        "outputId": "3a54d1d8-b25f-4e6c-ccd5-9250d412f370"
      },
      "outputs": [
        {
          "data": {
            "application/vnd.google.colaboratory.intrinsic+json": {
              "type": "string"
            },
            "text/plain": [
              "'Special attention in the newspaper requires such language education as headlines, subtitles, introductions, rubrics.'"
            ]
          },
          "execution_count": 10,
          "metadata": {},
          "output_type": "execute_result"
        }
      ],
      "source": [
        "translate('Особого внимания в газете требуют к себе такие речевые образования, как заголовки, подзаголовки, вводки, рубрики.')"
      ]
    },
    {
      "cell_type": "code",
      "execution_count": 6,
      "metadata": {
        "id": "o2mAUZ5U9SBl"
      },
      "outputs": [],
      "source": [
        "from tqdm import tqdm\n",
        "import os\n",
        "\n",
        "#translated_file_path = 'translated_ling.txt'\n",
        "translated_file_path = 'translated_phys.txt'\n",
        "\n",
        "lines_already_translated = 0\n",
        "if os.path.exists(translated_file_path):\n",
        "    with open(translated_file_path, 'r', encoding='utf-8') as file:\n",
        "        lines_already_translated = sum(1 for _ in file)"
      ]
    },
    {
      "cell_type": "code",
      "execution_count": 7,
      "metadata": {
        "colab": {
          "base_uri": "https://localhost:8080/"
        },
        "id": "Oi8dz9mR-fDu",
        "outputId": "9f688bb6-424b-4bf9-b297-33ffbf744ef1"
      },
      "outputs": [
        {
          "output_type": "execute_result",
          "data": {
            "text/plain": [
              "8071"
            ]
          },
          "metadata": {},
          "execution_count": 7
        }
      ],
      "source": [
        "lines_already_translated"
      ]
    },
    {
      "cell_type": "code",
      "execution_count": null,
      "metadata": {
        "colab": {
          "base_uri": "https://localhost:8080/"
        },
        "id": "LiWnRm769qh5",
        "outputId": "282ab6e0-ae8f-4b39-b2c7-ae0efa4b1090"
      },
      "outputs": [
        {
          "output_type": "stream",
          "name": "stderr",
          "text": [
            "1973it [6:49:43, 20.63s/it]"
          ]
        }
      ],
      "source": [
        "#filtered_file_path = 'filtered_ling.txt'\n",
        "filtered_file_path = 'filtered_phys.txt'\n",
        "\n",
        "with open(filtered_file_path, 'r', encoding='utf-8') as intermediate_file, \\\n",
        "     open(translated_file_path, 'a', encoding='utf-8') as translated_file:\n",
        "    if lines_already_translated > 0:\n",
        "        for _ in range(lines_already_translated):\n",
        "            next(intermediate_file)  # Skip already translated lines\n",
        "    for sentence in tqdm(intermediate_file):\n",
        "        sentence = sentence.strip()\n",
        "        if sentence:\n",
        "            translation = translate(sentence)\n",
        "            translated_file.write(sentence + \"\\t\" + translation + \"\\n\")"
      ]
    },
    {
      "cell_type": "markdown",
      "source": [
        "### Statistics"
      ],
      "metadata": {
        "id": "rUBwKRNn5_O8"
      }
    },
    {
      "cell_type": "code",
      "source": [
        "import sqlite3\n",
        "import pandas as pd\n",
        "import os\n",
        "from tqdm import tqdm\n",
        "\n",
        "def compute_statistics(db_path):\n",
        "    conn = sqlite3.connect(db_path)\n",
        "    cursor = conn.cursor()\n",
        "\n",
        "    # 1. Count the total number of tokens in Russian lemmas\n",
        "    query = \"SELECT lemmas_ru FROM sentences\"\n",
        "    cursor.execute(query)\n",
        "    russian_lemmas = cursor.fetchall()\n",
        "\n",
        "    print('Russian lemmas\\n')\n",
        "    total_russian_tokens = 0\n",
        "    for row in tqdm(russian_lemmas):\n",
        "        lemmas = row[0]\n",
        "        if lemmas:\n",
        "            tokens = lemmas.split()\n",
        "            total_russian_tokens += len(tokens)\n",
        "\n",
        "    # 2. Count the total number of tokens in English lemmas\n",
        "    query = \"SELECT lemmas_en FROM sentences\"\n",
        "    cursor.execute(query)\n",
        "    english_lemmas = cursor.fetchall()\n",
        "\n",
        "    print('English lemmas\\n')\n",
        "    total_english_tokens = 0\n",
        "    for row in tqdm(english_lemmas):\n",
        "        lemmas = row[0]\n",
        "        if lemmas:\n",
        "            tokens = lemmas.split()\n",
        "            total_english_tokens += len(tokens)\n",
        "\n",
        "    # 3. Calculate the average number of contexts per term\n",
        "    query = \"SELECT term_id, COUNT(*) as context_count FROM contexts GROUP BY term_id\"\n",
        "    cursor.execute(query)\n",
        "    contexts_per_term = cursor.fetchall()\n",
        "    total_terms_with_contexts = len(contexts_per_term)\n",
        "    total_contexts = sum([count for term_id, count in contexts_per_term])\n",
        "\n",
        "    average_contexts_per_term = total_contexts / total_terms_with_contexts if total_terms_with_contexts > 0 else 0\n",
        "\n",
        "    # 4. Calculate the average number of tokens in Russian lemmas and English lemmas\n",
        "    query = \"SELECT lemmas_ru, lemmas_en FROM sentences\"\n",
        "    cursor.execute(query)\n",
        "    lemmas = cursor.fetchall()\n",
        "\n",
        "    total_russian_token_count = 0\n",
        "    total_english_token_count = 0\n",
        "    russian_lemma_count = 0\n",
        "    english_lemma_count = 0\n",
        "\n",
        "    print('Average # of lemmas\\n')\n",
        "    for lemmas_ru, lemmas_en in tqdm(lemmas):\n",
        "        if lemmas_ru:\n",
        "            russian_tokens = lemmas_ru.split()\n",
        "            total_russian_token_count += len(russian_tokens)\n",
        "            russian_lemma_count += 1\n",
        "        if lemmas_en:\n",
        "            english_tokens = lemmas_en.split()\n",
        "            total_english_token_count += len(english_tokens)\n",
        "            english_lemma_count += 1\n",
        "\n",
        "    average_russian_tokens = total_russian_token_count / russian_lemma_count if russian_lemma_count > 0 else 0\n",
        "    average_english_tokens = total_english_token_count / english_lemma_count if english_lemma_count > 0 else 0\n",
        "\n",
        "    # 5. Count the number of terms that have contexts\n",
        "    query = \"SELECT COUNT(DISTINCT term_id) FROM contexts\"\n",
        "    cursor.execute(query)\n",
        "    terms_with_contexts_count = cursor.fetchone()[0]\n",
        "\n",
        "    conn.close()\n",
        "\n",
        "    stats = {\n",
        "        'Database': [db_path],\n",
        "        'Total Russian Tokens': [total_russian_tokens],\n",
        "        'Total English Tokens': [total_english_tokens],\n",
        "        'Average Contexts per Term': [average_contexts_per_term],\n",
        "        'Average Russian Tokens per Lemma': [average_russian_tokens],\n",
        "        'Average English Tokens per Lemma': [average_english_tokens],\n",
        "        'Number of Terms with Contexts': [terms_with_contexts_count]\n",
        "    }\n",
        "\n",
        "    return stats\n",
        "\n",
        "def save_statistics_to_csv(stats, csv_output):\n",
        "    df_stats = pd.DataFrame(stats)\n",
        "\n",
        "    if os.path.exists(csv_output):\n",
        "        df_existing = pd.read_csv(csv_output)\n",
        "        df_combined = pd.concat([df_existing, df_stats], ignore_index=True)\n",
        "        df_combined.to_csv(csv_output, index=False)\n",
        "    else:\n",
        "        df_stats.to_csv(csv_output, index=False)\n",
        "\n",
        "    print(f\"Statistics saved to {csv_output}\")"
      ],
      "metadata": {
        "id": "ipDtE1eK56nO"
      },
      "execution_count": 5,
      "outputs": []
    },
    {
      "cell_type": "code",
      "source": [
        "db_paths = ['phys_ted.db', 'ling_cyberleninka.db', 'phys_cyberleninka.db']  # List of database paths\n",
        "csv_output = 'all_stats.csv'\n",
        "\n",
        "for db_path in db_paths:\n",
        "    stats = compute_statistics(db_path)\n",
        "    save_statistics_to_csv(stats, csv_output)"
      ],
      "metadata": {
        "colab": {
          "base_uri": "https://localhost:8080/"
        },
        "id": "ZU63XAHiyJHN",
        "outputId": "3fa432d2-90d2-446f-c2ed-7d6df71d128d"
      },
      "execution_count": 6,
      "outputs": [
        {
          "output_type": "stream",
          "name": "stdout",
          "text": [
            "Russian lemmas\n",
            "\n"
          ]
        },
        {
          "output_type": "stream",
          "name": "stderr",
          "text": [
            "100%|██████████| 380267/380267 [00:00<00:00, 695326.27it/s]\n"
          ]
        },
        {
          "output_type": "stream",
          "name": "stdout",
          "text": [
            "English lemmas\n",
            "\n"
          ]
        },
        {
          "output_type": "stream",
          "name": "stderr",
          "text": [
            "100%|██████████| 380267/380267 [00:00<00:00, 1146006.29it/s]\n"
          ]
        },
        {
          "output_type": "stream",
          "name": "stdout",
          "text": [
            "Average # of lemmas\n",
            "\n"
          ]
        },
        {
          "output_type": "stream",
          "name": "stderr",
          "text": [
            "100%|██████████| 380267/380267 [00:00<00:00, 458250.73it/s]\n"
          ]
        },
        {
          "output_type": "stream",
          "name": "stdout",
          "text": [
            "Statistics saved to all_stats.csv\n",
            "Russian lemmas\n",
            "\n"
          ]
        },
        {
          "output_type": "stream",
          "name": "stderr",
          "text": [
            "100%|██████████| 11031/11031 [00:00<00:00, 385048.00it/s]\n"
          ]
        },
        {
          "output_type": "stream",
          "name": "stdout",
          "text": [
            "English lemmas\n",
            "\n"
          ]
        },
        {
          "output_type": "stream",
          "name": "stderr",
          "text": [
            "100%|██████████| 11031/11031 [00:00<00:00, 634825.71it/s]\n"
          ]
        },
        {
          "output_type": "stream",
          "name": "stdout",
          "text": [
            "Average # of lemmas\n",
            "\n"
          ]
        },
        {
          "output_type": "stream",
          "name": "stderr",
          "text": [
            "100%|██████████| 11031/11031 [00:00<00:00, 277071.67it/s]"
          ]
        },
        {
          "output_type": "stream",
          "name": "stdout",
          "text": [
            "Statistics saved to all_stats.csv\n"
          ]
        },
        {
          "output_type": "stream",
          "name": "stderr",
          "text": [
            "\n"
          ]
        },
        {
          "output_type": "stream",
          "name": "stdout",
          "text": [
            "Russian lemmas\n",
            "\n"
          ]
        },
        {
          "output_type": "stream",
          "name": "stderr",
          "text": [
            "100%|██████████| 5916/5916 [00:00<00:00, 243324.50it/s]\n"
          ]
        },
        {
          "output_type": "stream",
          "name": "stdout",
          "text": [
            "English lemmas\n",
            "\n"
          ]
        },
        {
          "output_type": "stream",
          "name": "stderr",
          "text": [
            "100%|██████████| 5916/5916 [00:00<00:00, 465352.06it/s]\n"
          ]
        },
        {
          "output_type": "stream",
          "name": "stdout",
          "text": [
            "Average # of lemmas\n",
            "\n"
          ]
        },
        {
          "output_type": "stream",
          "name": "stderr",
          "text": [
            "100%|██████████| 5916/5916 [00:00<00:00, 232658.58it/s]"
          ]
        },
        {
          "output_type": "stream",
          "name": "stdout",
          "text": [
            "Statistics saved to all_stats.csv\n"
          ]
        },
        {
          "output_type": "stream",
          "name": "stderr",
          "text": [
            "\n"
          ]
        }
      ]
    }
  ],
  "metadata": {
    "colab": {
      "provenance": []
    },
    "kernelspec": {
      "display_name": "Python 3",
      "name": "python3"
    },
    "language_info": {
      "name": "python"
    },
    "widgets": {
      "application/vnd.jupyter.widget-state+json": {
        "865a0de60b5e472d9cde8bff42b28cf0": {
          "model_module": "@jupyter-widgets/controls",
          "model_name": "HBoxModel",
          "model_module_version": "1.5.0",
          "state": {
            "_dom_classes": [],
            "_model_module": "@jupyter-widgets/controls",
            "_model_module_version": "1.5.0",
            "_model_name": "HBoxModel",
            "_view_count": null,
            "_view_module": "@jupyter-widgets/controls",
            "_view_module_version": "1.5.0",
            "_view_name": "HBoxView",
            "box_style": "",
            "children": [
              "IPY_MODEL_4d3932817e3244678dfc016074e6513c",
              "IPY_MODEL_6411e18f356b43df92f611e5f3b3502b",
              "IPY_MODEL_611f17cfb4a243939ba29ed69e616b06"
            ],
            "layout": "IPY_MODEL_ee9f8925132c4838972e1620d06b0c1f"
          }
        },
        "4d3932817e3244678dfc016074e6513c": {
          "model_module": "@jupyter-widgets/controls",
          "model_name": "HTMLModel",
          "model_module_version": "1.5.0",
          "state": {
            "_dom_classes": [],
            "_model_module": "@jupyter-widgets/controls",
            "_model_module_version": "1.5.0",
            "_model_name": "HTMLModel",
            "_view_count": null,
            "_view_module": "@jupyter-widgets/controls",
            "_view_module_version": "1.5.0",
            "_view_name": "HTMLView",
            "description": "",
            "description_tooltip": null,
            "layout": "IPY_MODEL_4ec8c37bac7140888be6892dfa57d1c7",
            "placeholder": "​",
            "style": "IPY_MODEL_c1bf1bc4692f4e41a9e870719584f5cd",
            "value": "tokenizer_config.json: 100%"
          }
        },
        "6411e18f356b43df92f611e5f3b3502b": {
          "model_module": "@jupyter-widgets/controls",
          "model_name": "FloatProgressModel",
          "model_module_version": "1.5.0",
          "state": {
            "_dom_classes": [],
            "_model_module": "@jupyter-widgets/controls",
            "_model_module_version": "1.5.0",
            "_model_name": "FloatProgressModel",
            "_view_count": null,
            "_view_module": "@jupyter-widgets/controls",
            "_view_module_version": "1.5.0",
            "_view_name": "ProgressView",
            "bar_style": "success",
            "description": "",
            "description_tooltip": null,
            "layout": "IPY_MODEL_be560f1a90cb4f69aa7c4cbb86fdf732",
            "max": 298,
            "min": 0,
            "orientation": "horizontal",
            "style": "IPY_MODEL_90e94b55f4dd4403b1b8351d5707fe3a",
            "value": 298
          }
        },
        "611f17cfb4a243939ba29ed69e616b06": {
          "model_module": "@jupyter-widgets/controls",
          "model_name": "HTMLModel",
          "model_module_version": "1.5.0",
          "state": {
            "_dom_classes": [],
            "_model_module": "@jupyter-widgets/controls",
            "_model_module_version": "1.5.0",
            "_model_name": "HTMLModel",
            "_view_count": null,
            "_view_module": "@jupyter-widgets/controls",
            "_view_module_version": "1.5.0",
            "_view_name": "HTMLView",
            "description": "",
            "description_tooltip": null,
            "layout": "IPY_MODEL_6f800e0181844644aee079fc5b273e23",
            "placeholder": "​",
            "style": "IPY_MODEL_8bfda873fdcb41a6a4ef12ec2515f58a",
            "value": " 298/298 [00:00&lt;00:00, 7.86kB/s]"
          }
        },
        "ee9f8925132c4838972e1620d06b0c1f": {
          "model_module": "@jupyter-widgets/base",
          "model_name": "LayoutModel",
          "model_module_version": "1.2.0",
          "state": {
            "_model_module": "@jupyter-widgets/base",
            "_model_module_version": "1.2.0",
            "_model_name": "LayoutModel",
            "_view_count": null,
            "_view_module": "@jupyter-widgets/base",
            "_view_module_version": "1.2.0",
            "_view_name": "LayoutView",
            "align_content": null,
            "align_items": null,
            "align_self": null,
            "border": null,
            "bottom": null,
            "display": null,
            "flex": null,
            "flex_flow": null,
            "grid_area": null,
            "grid_auto_columns": null,
            "grid_auto_flow": null,
            "grid_auto_rows": null,
            "grid_column": null,
            "grid_gap": null,
            "grid_row": null,
            "grid_template_areas": null,
            "grid_template_columns": null,
            "grid_template_rows": null,
            "height": null,
            "justify_content": null,
            "justify_items": null,
            "left": null,
            "margin": null,
            "max_height": null,
            "max_width": null,
            "min_height": null,
            "min_width": null,
            "object_fit": null,
            "object_position": null,
            "order": null,
            "overflow": null,
            "overflow_x": null,
            "overflow_y": null,
            "padding": null,
            "right": null,
            "top": null,
            "visibility": null,
            "width": null
          }
        },
        "4ec8c37bac7140888be6892dfa57d1c7": {
          "model_module": "@jupyter-widgets/base",
          "model_name": "LayoutModel",
          "model_module_version": "1.2.0",
          "state": {
            "_model_module": "@jupyter-widgets/base",
            "_model_module_version": "1.2.0",
            "_model_name": "LayoutModel",
            "_view_count": null,
            "_view_module": "@jupyter-widgets/base",
            "_view_module_version": "1.2.0",
            "_view_name": "LayoutView",
            "align_content": null,
            "align_items": null,
            "align_self": null,
            "border": null,
            "bottom": null,
            "display": null,
            "flex": null,
            "flex_flow": null,
            "grid_area": null,
            "grid_auto_columns": null,
            "grid_auto_flow": null,
            "grid_auto_rows": null,
            "grid_column": null,
            "grid_gap": null,
            "grid_row": null,
            "grid_template_areas": null,
            "grid_template_columns": null,
            "grid_template_rows": null,
            "height": null,
            "justify_content": null,
            "justify_items": null,
            "left": null,
            "margin": null,
            "max_height": null,
            "max_width": null,
            "min_height": null,
            "min_width": null,
            "object_fit": null,
            "object_position": null,
            "order": null,
            "overflow": null,
            "overflow_x": null,
            "overflow_y": null,
            "padding": null,
            "right": null,
            "top": null,
            "visibility": null,
            "width": null
          }
        },
        "c1bf1bc4692f4e41a9e870719584f5cd": {
          "model_module": "@jupyter-widgets/controls",
          "model_name": "DescriptionStyleModel",
          "model_module_version": "1.5.0",
          "state": {
            "_model_module": "@jupyter-widgets/controls",
            "_model_module_version": "1.5.0",
            "_model_name": "DescriptionStyleModel",
            "_view_count": null,
            "_view_module": "@jupyter-widgets/base",
            "_view_module_version": "1.2.0",
            "_view_name": "StyleView",
            "description_width": ""
          }
        },
        "be560f1a90cb4f69aa7c4cbb86fdf732": {
          "model_module": "@jupyter-widgets/base",
          "model_name": "LayoutModel",
          "model_module_version": "1.2.0",
          "state": {
            "_model_module": "@jupyter-widgets/base",
            "_model_module_version": "1.2.0",
            "_model_name": "LayoutModel",
            "_view_count": null,
            "_view_module": "@jupyter-widgets/base",
            "_view_module_version": "1.2.0",
            "_view_name": "LayoutView",
            "align_content": null,
            "align_items": null,
            "align_self": null,
            "border": null,
            "bottom": null,
            "display": null,
            "flex": null,
            "flex_flow": null,
            "grid_area": null,
            "grid_auto_columns": null,
            "grid_auto_flow": null,
            "grid_auto_rows": null,
            "grid_column": null,
            "grid_gap": null,
            "grid_row": null,
            "grid_template_areas": null,
            "grid_template_columns": null,
            "grid_template_rows": null,
            "height": null,
            "justify_content": null,
            "justify_items": null,
            "left": null,
            "margin": null,
            "max_height": null,
            "max_width": null,
            "min_height": null,
            "min_width": null,
            "object_fit": null,
            "object_position": null,
            "order": null,
            "overflow": null,
            "overflow_x": null,
            "overflow_y": null,
            "padding": null,
            "right": null,
            "top": null,
            "visibility": null,
            "width": null
          }
        },
        "90e94b55f4dd4403b1b8351d5707fe3a": {
          "model_module": "@jupyter-widgets/controls",
          "model_name": "ProgressStyleModel",
          "model_module_version": "1.5.0",
          "state": {
            "_model_module": "@jupyter-widgets/controls",
            "_model_module_version": "1.5.0",
            "_model_name": "ProgressStyleModel",
            "_view_count": null,
            "_view_module": "@jupyter-widgets/base",
            "_view_module_version": "1.2.0",
            "_view_name": "StyleView",
            "bar_color": null,
            "description_width": ""
          }
        },
        "6f800e0181844644aee079fc5b273e23": {
          "model_module": "@jupyter-widgets/base",
          "model_name": "LayoutModel",
          "model_module_version": "1.2.0",
          "state": {
            "_model_module": "@jupyter-widgets/base",
            "_model_module_version": "1.2.0",
            "_model_name": "LayoutModel",
            "_view_count": null,
            "_view_module": "@jupyter-widgets/base",
            "_view_module_version": "1.2.0",
            "_view_name": "LayoutView",
            "align_content": null,
            "align_items": null,
            "align_self": null,
            "border": null,
            "bottom": null,
            "display": null,
            "flex": null,
            "flex_flow": null,
            "grid_area": null,
            "grid_auto_columns": null,
            "grid_auto_flow": null,
            "grid_auto_rows": null,
            "grid_column": null,
            "grid_gap": null,
            "grid_row": null,
            "grid_template_areas": null,
            "grid_template_columns": null,
            "grid_template_rows": null,
            "height": null,
            "justify_content": null,
            "justify_items": null,
            "left": null,
            "margin": null,
            "max_height": null,
            "max_width": null,
            "min_height": null,
            "min_width": null,
            "object_fit": null,
            "object_position": null,
            "order": null,
            "overflow": null,
            "overflow_x": null,
            "overflow_y": null,
            "padding": null,
            "right": null,
            "top": null,
            "visibility": null,
            "width": null
          }
        },
        "8bfda873fdcb41a6a4ef12ec2515f58a": {
          "model_module": "@jupyter-widgets/controls",
          "model_name": "DescriptionStyleModel",
          "model_module_version": "1.5.0",
          "state": {
            "_model_module": "@jupyter-widgets/controls",
            "_model_module_version": "1.5.0",
            "_model_name": "DescriptionStyleModel",
            "_view_count": null,
            "_view_module": "@jupyter-widgets/base",
            "_view_module_version": "1.2.0",
            "_view_name": "StyleView",
            "description_width": ""
          }
        },
        "046b39c73a174e5bb51390b23f61a864": {
          "model_module": "@jupyter-widgets/controls",
          "model_name": "HBoxModel",
          "model_module_version": "1.5.0",
          "state": {
            "_dom_classes": [],
            "_model_module": "@jupyter-widgets/controls",
            "_model_module_version": "1.5.0",
            "_model_name": "HBoxModel",
            "_view_count": null,
            "_view_module": "@jupyter-widgets/controls",
            "_view_module_version": "1.5.0",
            "_view_name": "HBoxView",
            "box_style": "",
            "children": [
              "IPY_MODEL_d1939116291949af97b9f4d04497776e",
              "IPY_MODEL_636950f5af17432588ea6e14f7cd1eb9",
              "IPY_MODEL_1e483bea04ef4fc496c8e20597815ec9"
            ],
            "layout": "IPY_MODEL_3c0843ecea1845759d28e06155448180"
          }
        },
        "d1939116291949af97b9f4d04497776e": {
          "model_module": "@jupyter-widgets/controls",
          "model_name": "HTMLModel",
          "model_module_version": "1.5.0",
          "state": {
            "_dom_classes": [],
            "_model_module": "@jupyter-widgets/controls",
            "_model_module_version": "1.5.0",
            "_model_name": "HTMLModel",
            "_view_count": null,
            "_view_module": "@jupyter-widgets/controls",
            "_view_module_version": "1.5.0",
            "_view_name": "HTMLView",
            "description": "",
            "description_tooltip": null,
            "layout": "IPY_MODEL_77caa9d9d6604b0590917f595bad42f8",
            "placeholder": "​",
            "style": "IPY_MODEL_3e0ccb36e94c4b31ae3909684342eb9b",
            "value": "vocab.json: 100%"
          }
        },
        "636950f5af17432588ea6e14f7cd1eb9": {
          "model_module": "@jupyter-widgets/controls",
          "model_name": "FloatProgressModel",
          "model_module_version": "1.5.0",
          "state": {
            "_dom_classes": [],
            "_model_module": "@jupyter-widgets/controls",
            "_model_module_version": "1.5.0",
            "_model_name": "FloatProgressModel",
            "_view_count": null,
            "_view_module": "@jupyter-widgets/controls",
            "_view_module_version": "1.5.0",
            "_view_name": "ProgressView",
            "bar_style": "success",
            "description": "",
            "description_tooltip": null,
            "layout": "IPY_MODEL_9da03396b2fa41e28f7d9633a3967a35",
            "max": 3708092,
            "min": 0,
            "orientation": "horizontal",
            "style": "IPY_MODEL_e16ac5dc32084a69b58acc853b654676",
            "value": 3708092
          }
        },
        "1e483bea04ef4fc496c8e20597815ec9": {
          "model_module": "@jupyter-widgets/controls",
          "model_name": "HTMLModel",
          "model_module_version": "1.5.0",
          "state": {
            "_dom_classes": [],
            "_model_module": "@jupyter-widgets/controls",
            "_model_module_version": "1.5.0",
            "_model_name": "HTMLModel",
            "_view_count": null,
            "_view_module": "@jupyter-widgets/controls",
            "_view_module_version": "1.5.0",
            "_view_name": "HTMLView",
            "description": "",
            "description_tooltip": null,
            "layout": "IPY_MODEL_935a4def9f4a48999991a35385466bdb",
            "placeholder": "​",
            "style": "IPY_MODEL_d34d967e7816491fac03a64fb00d9c60",
            "value": " 3.71M/3.71M [00:00&lt;00:00, 17.9MB/s]"
          }
        },
        "3c0843ecea1845759d28e06155448180": {
          "model_module": "@jupyter-widgets/base",
          "model_name": "LayoutModel",
          "model_module_version": "1.2.0",
          "state": {
            "_model_module": "@jupyter-widgets/base",
            "_model_module_version": "1.2.0",
            "_model_name": "LayoutModel",
            "_view_count": null,
            "_view_module": "@jupyter-widgets/base",
            "_view_module_version": "1.2.0",
            "_view_name": "LayoutView",
            "align_content": null,
            "align_items": null,
            "align_self": null,
            "border": null,
            "bottom": null,
            "display": null,
            "flex": null,
            "flex_flow": null,
            "grid_area": null,
            "grid_auto_columns": null,
            "grid_auto_flow": null,
            "grid_auto_rows": null,
            "grid_column": null,
            "grid_gap": null,
            "grid_row": null,
            "grid_template_areas": null,
            "grid_template_columns": null,
            "grid_template_rows": null,
            "height": null,
            "justify_content": null,
            "justify_items": null,
            "left": null,
            "margin": null,
            "max_height": null,
            "max_width": null,
            "min_height": null,
            "min_width": null,
            "object_fit": null,
            "object_position": null,
            "order": null,
            "overflow": null,
            "overflow_x": null,
            "overflow_y": null,
            "padding": null,
            "right": null,
            "top": null,
            "visibility": null,
            "width": null
          }
        },
        "77caa9d9d6604b0590917f595bad42f8": {
          "model_module": "@jupyter-widgets/base",
          "model_name": "LayoutModel",
          "model_module_version": "1.2.0",
          "state": {
            "_model_module": "@jupyter-widgets/base",
            "_model_module_version": "1.2.0",
            "_model_name": "LayoutModel",
            "_view_count": null,
            "_view_module": "@jupyter-widgets/base",
            "_view_module_version": "1.2.0",
            "_view_name": "LayoutView",
            "align_content": null,
            "align_items": null,
            "align_self": null,
            "border": null,
            "bottom": null,
            "display": null,
            "flex": null,
            "flex_flow": null,
            "grid_area": null,
            "grid_auto_columns": null,
            "grid_auto_flow": null,
            "grid_auto_rows": null,
            "grid_column": null,
            "grid_gap": null,
            "grid_row": null,
            "grid_template_areas": null,
            "grid_template_columns": null,
            "grid_template_rows": null,
            "height": null,
            "justify_content": null,
            "justify_items": null,
            "left": null,
            "margin": null,
            "max_height": null,
            "max_width": null,
            "min_height": null,
            "min_width": null,
            "object_fit": null,
            "object_position": null,
            "order": null,
            "overflow": null,
            "overflow_x": null,
            "overflow_y": null,
            "padding": null,
            "right": null,
            "top": null,
            "visibility": null,
            "width": null
          }
        },
        "3e0ccb36e94c4b31ae3909684342eb9b": {
          "model_module": "@jupyter-widgets/controls",
          "model_name": "DescriptionStyleModel",
          "model_module_version": "1.5.0",
          "state": {
            "_model_module": "@jupyter-widgets/controls",
            "_model_module_version": "1.5.0",
            "_model_name": "DescriptionStyleModel",
            "_view_count": null,
            "_view_module": "@jupyter-widgets/base",
            "_view_module_version": "1.2.0",
            "_view_name": "StyleView",
            "description_width": ""
          }
        },
        "9da03396b2fa41e28f7d9633a3967a35": {
          "model_module": "@jupyter-widgets/base",
          "model_name": "LayoutModel",
          "model_module_version": "1.2.0",
          "state": {
            "_model_module": "@jupyter-widgets/base",
            "_model_module_version": "1.2.0",
            "_model_name": "LayoutModel",
            "_view_count": null,
            "_view_module": "@jupyter-widgets/base",
            "_view_module_version": "1.2.0",
            "_view_name": "LayoutView",
            "align_content": null,
            "align_items": null,
            "align_self": null,
            "border": null,
            "bottom": null,
            "display": null,
            "flex": null,
            "flex_flow": null,
            "grid_area": null,
            "grid_auto_columns": null,
            "grid_auto_flow": null,
            "grid_auto_rows": null,
            "grid_column": null,
            "grid_gap": null,
            "grid_row": null,
            "grid_template_areas": null,
            "grid_template_columns": null,
            "grid_template_rows": null,
            "height": null,
            "justify_content": null,
            "justify_items": null,
            "left": null,
            "margin": null,
            "max_height": null,
            "max_width": null,
            "min_height": null,
            "min_width": null,
            "object_fit": null,
            "object_position": null,
            "order": null,
            "overflow": null,
            "overflow_x": null,
            "overflow_y": null,
            "padding": null,
            "right": null,
            "top": null,
            "visibility": null,
            "width": null
          }
        },
        "e16ac5dc32084a69b58acc853b654676": {
          "model_module": "@jupyter-widgets/controls",
          "model_name": "ProgressStyleModel",
          "model_module_version": "1.5.0",
          "state": {
            "_model_module": "@jupyter-widgets/controls",
            "_model_module_version": "1.5.0",
            "_model_name": "ProgressStyleModel",
            "_view_count": null,
            "_view_module": "@jupyter-widgets/base",
            "_view_module_version": "1.2.0",
            "_view_name": "StyleView",
            "bar_color": null,
            "description_width": ""
          }
        },
        "935a4def9f4a48999991a35385466bdb": {
          "model_module": "@jupyter-widgets/base",
          "model_name": "LayoutModel",
          "model_module_version": "1.2.0",
          "state": {
            "_model_module": "@jupyter-widgets/base",
            "_model_module_version": "1.2.0",
            "_model_name": "LayoutModel",
            "_view_count": null,
            "_view_module": "@jupyter-widgets/base",
            "_view_module_version": "1.2.0",
            "_view_name": "LayoutView",
            "align_content": null,
            "align_items": null,
            "align_self": null,
            "border": null,
            "bottom": null,
            "display": null,
            "flex": null,
            "flex_flow": null,
            "grid_area": null,
            "grid_auto_columns": null,
            "grid_auto_flow": null,
            "grid_auto_rows": null,
            "grid_column": null,
            "grid_gap": null,
            "grid_row": null,
            "grid_template_areas": null,
            "grid_template_columns": null,
            "grid_template_rows": null,
            "height": null,
            "justify_content": null,
            "justify_items": null,
            "left": null,
            "margin": null,
            "max_height": null,
            "max_width": null,
            "min_height": null,
            "min_width": null,
            "object_fit": null,
            "object_position": null,
            "order": null,
            "overflow": null,
            "overflow_x": null,
            "overflow_y": null,
            "padding": null,
            "right": null,
            "top": null,
            "visibility": null,
            "width": null
          }
        },
        "d34d967e7816491fac03a64fb00d9c60": {
          "model_module": "@jupyter-widgets/controls",
          "model_name": "DescriptionStyleModel",
          "model_module_version": "1.5.0",
          "state": {
            "_model_module": "@jupyter-widgets/controls",
            "_model_module_version": "1.5.0",
            "_model_name": "DescriptionStyleModel",
            "_view_count": null,
            "_view_module": "@jupyter-widgets/base",
            "_view_module_version": "1.2.0",
            "_view_name": "StyleView",
            "description_width": ""
          }
        },
        "a8124c079f8441778e4e8fe8f47635a7": {
          "model_module": "@jupyter-widgets/controls",
          "model_name": "HBoxModel",
          "model_module_version": "1.5.0",
          "state": {
            "_dom_classes": [],
            "_model_module": "@jupyter-widgets/controls",
            "_model_module_version": "1.5.0",
            "_model_name": "HBoxModel",
            "_view_count": null,
            "_view_module": "@jupyter-widgets/controls",
            "_view_module_version": "1.5.0",
            "_view_name": "HBoxView",
            "box_style": "",
            "children": [
              "IPY_MODEL_4f83074a5dd74c179d9e3b184474bc76",
              "IPY_MODEL_bc9b6431e7a94c2e9ae4f7e8d3ac7e4c",
              "IPY_MODEL_2b47809db25e4f898c32533bf5ba8450"
            ],
            "layout": "IPY_MODEL_1d7045001aeb42a0b3e3305d2cb235c1"
          }
        },
        "4f83074a5dd74c179d9e3b184474bc76": {
          "model_module": "@jupyter-widgets/controls",
          "model_name": "HTMLModel",
          "model_module_version": "1.5.0",
          "state": {
            "_dom_classes": [],
            "_model_module": "@jupyter-widgets/controls",
            "_model_module_version": "1.5.0",
            "_model_name": "HTMLModel",
            "_view_count": null,
            "_view_module": "@jupyter-widgets/controls",
            "_view_module_version": "1.5.0",
            "_view_name": "HTMLView",
            "description": "",
            "description_tooltip": null,
            "layout": "IPY_MODEL_2509b5bf2e9d45dfa999ffd62192c83f",
            "placeholder": "​",
            "style": "IPY_MODEL_31dfc935e9794d47bf0c75cd4f6adc26",
            "value": "sentencepiece.bpe.model: 100%"
          }
        },
        "bc9b6431e7a94c2e9ae4f7e8d3ac7e4c": {
          "model_module": "@jupyter-widgets/controls",
          "model_name": "FloatProgressModel",
          "model_module_version": "1.5.0",
          "state": {
            "_dom_classes": [],
            "_model_module": "@jupyter-widgets/controls",
            "_model_module_version": "1.5.0",
            "_model_name": "FloatProgressModel",
            "_view_count": null,
            "_view_module": "@jupyter-widgets/controls",
            "_view_module_version": "1.5.0",
            "_view_name": "ProgressView",
            "bar_style": "success",
            "description": "",
            "description_tooltip": null,
            "layout": "IPY_MODEL_adb9191fad6c47ceba3bc57d902286ad",
            "max": 2423393,
            "min": 0,
            "orientation": "horizontal",
            "style": "IPY_MODEL_939a4ff45b2f49929a0cd7f79057136d",
            "value": 2423393
          }
        },
        "2b47809db25e4f898c32533bf5ba8450": {
          "model_module": "@jupyter-widgets/controls",
          "model_name": "HTMLModel",
          "model_module_version": "1.5.0",
          "state": {
            "_dom_classes": [],
            "_model_module": "@jupyter-widgets/controls",
            "_model_module_version": "1.5.0",
            "_model_name": "HTMLModel",
            "_view_count": null,
            "_view_module": "@jupyter-widgets/controls",
            "_view_module_version": "1.5.0",
            "_view_name": "HTMLView",
            "description": "",
            "description_tooltip": null,
            "layout": "IPY_MODEL_1a3ce0d91e1b4770959c79fc8f769f28",
            "placeholder": "​",
            "style": "IPY_MODEL_e4175ccfc3a946b995d263baa17a256d",
            "value": " 2.42M/2.42M [00:00&lt;00:00, 12.3MB/s]"
          }
        },
        "1d7045001aeb42a0b3e3305d2cb235c1": {
          "model_module": "@jupyter-widgets/base",
          "model_name": "LayoutModel",
          "model_module_version": "1.2.0",
          "state": {
            "_model_module": "@jupyter-widgets/base",
            "_model_module_version": "1.2.0",
            "_model_name": "LayoutModel",
            "_view_count": null,
            "_view_module": "@jupyter-widgets/base",
            "_view_module_version": "1.2.0",
            "_view_name": "LayoutView",
            "align_content": null,
            "align_items": null,
            "align_self": null,
            "border": null,
            "bottom": null,
            "display": null,
            "flex": null,
            "flex_flow": null,
            "grid_area": null,
            "grid_auto_columns": null,
            "grid_auto_flow": null,
            "grid_auto_rows": null,
            "grid_column": null,
            "grid_gap": null,
            "grid_row": null,
            "grid_template_areas": null,
            "grid_template_columns": null,
            "grid_template_rows": null,
            "height": null,
            "justify_content": null,
            "justify_items": null,
            "left": null,
            "margin": null,
            "max_height": null,
            "max_width": null,
            "min_height": null,
            "min_width": null,
            "object_fit": null,
            "object_position": null,
            "order": null,
            "overflow": null,
            "overflow_x": null,
            "overflow_y": null,
            "padding": null,
            "right": null,
            "top": null,
            "visibility": null,
            "width": null
          }
        },
        "2509b5bf2e9d45dfa999ffd62192c83f": {
          "model_module": "@jupyter-widgets/base",
          "model_name": "LayoutModel",
          "model_module_version": "1.2.0",
          "state": {
            "_model_module": "@jupyter-widgets/base",
            "_model_module_version": "1.2.0",
            "_model_name": "LayoutModel",
            "_view_count": null,
            "_view_module": "@jupyter-widgets/base",
            "_view_module_version": "1.2.0",
            "_view_name": "LayoutView",
            "align_content": null,
            "align_items": null,
            "align_self": null,
            "border": null,
            "bottom": null,
            "display": null,
            "flex": null,
            "flex_flow": null,
            "grid_area": null,
            "grid_auto_columns": null,
            "grid_auto_flow": null,
            "grid_auto_rows": null,
            "grid_column": null,
            "grid_gap": null,
            "grid_row": null,
            "grid_template_areas": null,
            "grid_template_columns": null,
            "grid_template_rows": null,
            "height": null,
            "justify_content": null,
            "justify_items": null,
            "left": null,
            "margin": null,
            "max_height": null,
            "max_width": null,
            "min_height": null,
            "min_width": null,
            "object_fit": null,
            "object_position": null,
            "order": null,
            "overflow": null,
            "overflow_x": null,
            "overflow_y": null,
            "padding": null,
            "right": null,
            "top": null,
            "visibility": null,
            "width": null
          }
        },
        "31dfc935e9794d47bf0c75cd4f6adc26": {
          "model_module": "@jupyter-widgets/controls",
          "model_name": "DescriptionStyleModel",
          "model_module_version": "1.5.0",
          "state": {
            "_model_module": "@jupyter-widgets/controls",
            "_model_module_version": "1.5.0",
            "_model_name": "DescriptionStyleModel",
            "_view_count": null,
            "_view_module": "@jupyter-widgets/base",
            "_view_module_version": "1.2.0",
            "_view_name": "StyleView",
            "description_width": ""
          }
        },
        "adb9191fad6c47ceba3bc57d902286ad": {
          "model_module": "@jupyter-widgets/base",
          "model_name": "LayoutModel",
          "model_module_version": "1.2.0",
          "state": {
            "_model_module": "@jupyter-widgets/base",
            "_model_module_version": "1.2.0",
            "_model_name": "LayoutModel",
            "_view_count": null,
            "_view_module": "@jupyter-widgets/base",
            "_view_module_version": "1.2.0",
            "_view_name": "LayoutView",
            "align_content": null,
            "align_items": null,
            "align_self": null,
            "border": null,
            "bottom": null,
            "display": null,
            "flex": null,
            "flex_flow": null,
            "grid_area": null,
            "grid_auto_columns": null,
            "grid_auto_flow": null,
            "grid_auto_rows": null,
            "grid_column": null,
            "grid_gap": null,
            "grid_row": null,
            "grid_template_areas": null,
            "grid_template_columns": null,
            "grid_template_rows": null,
            "height": null,
            "justify_content": null,
            "justify_items": null,
            "left": null,
            "margin": null,
            "max_height": null,
            "max_width": null,
            "min_height": null,
            "min_width": null,
            "object_fit": null,
            "object_position": null,
            "order": null,
            "overflow": null,
            "overflow_x": null,
            "overflow_y": null,
            "padding": null,
            "right": null,
            "top": null,
            "visibility": null,
            "width": null
          }
        },
        "939a4ff45b2f49929a0cd7f79057136d": {
          "model_module": "@jupyter-widgets/controls",
          "model_name": "ProgressStyleModel",
          "model_module_version": "1.5.0",
          "state": {
            "_model_module": "@jupyter-widgets/controls",
            "_model_module_version": "1.5.0",
            "_model_name": "ProgressStyleModel",
            "_view_count": null,
            "_view_module": "@jupyter-widgets/base",
            "_view_module_version": "1.2.0",
            "_view_name": "StyleView",
            "bar_color": null,
            "description_width": ""
          }
        },
        "1a3ce0d91e1b4770959c79fc8f769f28": {
          "model_module": "@jupyter-widgets/base",
          "model_name": "LayoutModel",
          "model_module_version": "1.2.0",
          "state": {
            "_model_module": "@jupyter-widgets/base",
            "_model_module_version": "1.2.0",
            "_model_name": "LayoutModel",
            "_view_count": null,
            "_view_module": "@jupyter-widgets/base",
            "_view_module_version": "1.2.0",
            "_view_name": "LayoutView",
            "align_content": null,
            "align_items": null,
            "align_self": null,
            "border": null,
            "bottom": null,
            "display": null,
            "flex": null,
            "flex_flow": null,
            "grid_area": null,
            "grid_auto_columns": null,
            "grid_auto_flow": null,
            "grid_auto_rows": null,
            "grid_column": null,
            "grid_gap": null,
            "grid_row": null,
            "grid_template_areas": null,
            "grid_template_columns": null,
            "grid_template_rows": null,
            "height": null,
            "justify_content": null,
            "justify_items": null,
            "left": null,
            "margin": null,
            "max_height": null,
            "max_width": null,
            "min_height": null,
            "min_width": null,
            "object_fit": null,
            "object_position": null,
            "order": null,
            "overflow": null,
            "overflow_x": null,
            "overflow_y": null,
            "padding": null,
            "right": null,
            "top": null,
            "visibility": null,
            "width": null
          }
        },
        "e4175ccfc3a946b995d263baa17a256d": {
          "model_module": "@jupyter-widgets/controls",
          "model_name": "DescriptionStyleModel",
          "model_module_version": "1.5.0",
          "state": {
            "_model_module": "@jupyter-widgets/controls",
            "_model_module_version": "1.5.0",
            "_model_name": "DescriptionStyleModel",
            "_view_count": null,
            "_view_module": "@jupyter-widgets/base",
            "_view_module_version": "1.2.0",
            "_view_name": "StyleView",
            "description_width": ""
          }
        },
        "b405def7c8db4dd0b4be66108783f791": {
          "model_module": "@jupyter-widgets/controls",
          "model_name": "HBoxModel",
          "model_module_version": "1.5.0",
          "state": {
            "_dom_classes": [],
            "_model_module": "@jupyter-widgets/controls",
            "_model_module_version": "1.5.0",
            "_model_name": "HBoxModel",
            "_view_count": null,
            "_view_module": "@jupyter-widgets/controls",
            "_view_module_version": "1.5.0",
            "_view_name": "HBoxView",
            "box_style": "",
            "children": [
              "IPY_MODEL_6a85a5b74aa14676b34e6a46c6fffe14",
              "IPY_MODEL_f37e028ffbfd47239815fe57a3a77fb1",
              "IPY_MODEL_298670dec43044819bc7beee9e077d12"
            ],
            "layout": "IPY_MODEL_dfff964a8dce400a896439846089213c"
          }
        },
        "6a85a5b74aa14676b34e6a46c6fffe14": {
          "model_module": "@jupyter-widgets/controls",
          "model_name": "HTMLModel",
          "model_module_version": "1.5.0",
          "state": {
            "_dom_classes": [],
            "_model_module": "@jupyter-widgets/controls",
            "_model_module_version": "1.5.0",
            "_model_name": "HTMLModel",
            "_view_count": null,
            "_view_module": "@jupyter-widgets/controls",
            "_view_module_version": "1.5.0",
            "_view_name": "HTMLView",
            "description": "",
            "description_tooltip": null,
            "layout": "IPY_MODEL_fae9732a19cb445597ed7db561a8eef5",
            "placeholder": "​",
            "style": "IPY_MODEL_39757fb5235a48b3a29f6987f3d65206",
            "value": "special_tokens_map.json: 100%"
          }
        },
        "f37e028ffbfd47239815fe57a3a77fb1": {
          "model_module": "@jupyter-widgets/controls",
          "model_name": "FloatProgressModel",
          "model_module_version": "1.5.0",
          "state": {
            "_dom_classes": [],
            "_model_module": "@jupyter-widgets/controls",
            "_model_module_version": "1.5.0",
            "_model_name": "FloatProgressModel",
            "_view_count": null,
            "_view_module": "@jupyter-widgets/controls",
            "_view_module_version": "1.5.0",
            "_view_name": "ProgressView",
            "bar_style": "success",
            "description": "",
            "description_tooltip": null,
            "layout": "IPY_MODEL_2f3de7ab1b59460d90d7aaf9183cc98d",
            "max": 1140,
            "min": 0,
            "orientation": "horizontal",
            "style": "IPY_MODEL_01856555e0ba45f2ac0d093f6d1eeaf8",
            "value": 1140
          }
        },
        "298670dec43044819bc7beee9e077d12": {
          "model_module": "@jupyter-widgets/controls",
          "model_name": "HTMLModel",
          "model_module_version": "1.5.0",
          "state": {
            "_dom_classes": [],
            "_model_module": "@jupyter-widgets/controls",
            "_model_module_version": "1.5.0",
            "_model_name": "HTMLModel",
            "_view_count": null,
            "_view_module": "@jupyter-widgets/controls",
            "_view_module_version": "1.5.0",
            "_view_name": "HTMLView",
            "description": "",
            "description_tooltip": null,
            "layout": "IPY_MODEL_93ce59bf4a504b4d8ddbfb098c2cf105",
            "placeholder": "​",
            "style": "IPY_MODEL_21646b243fc646e1a94658c1d7a38947",
            "value": " 1.14k/1.14k [00:00&lt;00:00, 17.3kB/s]"
          }
        },
        "dfff964a8dce400a896439846089213c": {
          "model_module": "@jupyter-widgets/base",
          "model_name": "LayoutModel",
          "model_module_version": "1.2.0",
          "state": {
            "_model_module": "@jupyter-widgets/base",
            "_model_module_version": "1.2.0",
            "_model_name": "LayoutModel",
            "_view_count": null,
            "_view_module": "@jupyter-widgets/base",
            "_view_module_version": "1.2.0",
            "_view_name": "LayoutView",
            "align_content": null,
            "align_items": null,
            "align_self": null,
            "border": null,
            "bottom": null,
            "display": null,
            "flex": null,
            "flex_flow": null,
            "grid_area": null,
            "grid_auto_columns": null,
            "grid_auto_flow": null,
            "grid_auto_rows": null,
            "grid_column": null,
            "grid_gap": null,
            "grid_row": null,
            "grid_template_areas": null,
            "grid_template_columns": null,
            "grid_template_rows": null,
            "height": null,
            "justify_content": null,
            "justify_items": null,
            "left": null,
            "margin": null,
            "max_height": null,
            "max_width": null,
            "min_height": null,
            "min_width": null,
            "object_fit": null,
            "object_position": null,
            "order": null,
            "overflow": null,
            "overflow_x": null,
            "overflow_y": null,
            "padding": null,
            "right": null,
            "top": null,
            "visibility": null,
            "width": null
          }
        },
        "fae9732a19cb445597ed7db561a8eef5": {
          "model_module": "@jupyter-widgets/base",
          "model_name": "LayoutModel",
          "model_module_version": "1.2.0",
          "state": {
            "_model_module": "@jupyter-widgets/base",
            "_model_module_version": "1.2.0",
            "_model_name": "LayoutModel",
            "_view_count": null,
            "_view_module": "@jupyter-widgets/base",
            "_view_module_version": "1.2.0",
            "_view_name": "LayoutView",
            "align_content": null,
            "align_items": null,
            "align_self": null,
            "border": null,
            "bottom": null,
            "display": null,
            "flex": null,
            "flex_flow": null,
            "grid_area": null,
            "grid_auto_columns": null,
            "grid_auto_flow": null,
            "grid_auto_rows": null,
            "grid_column": null,
            "grid_gap": null,
            "grid_row": null,
            "grid_template_areas": null,
            "grid_template_columns": null,
            "grid_template_rows": null,
            "height": null,
            "justify_content": null,
            "justify_items": null,
            "left": null,
            "margin": null,
            "max_height": null,
            "max_width": null,
            "min_height": null,
            "min_width": null,
            "object_fit": null,
            "object_position": null,
            "order": null,
            "overflow": null,
            "overflow_x": null,
            "overflow_y": null,
            "padding": null,
            "right": null,
            "top": null,
            "visibility": null,
            "width": null
          }
        },
        "39757fb5235a48b3a29f6987f3d65206": {
          "model_module": "@jupyter-widgets/controls",
          "model_name": "DescriptionStyleModel",
          "model_module_version": "1.5.0",
          "state": {
            "_model_module": "@jupyter-widgets/controls",
            "_model_module_version": "1.5.0",
            "_model_name": "DescriptionStyleModel",
            "_view_count": null,
            "_view_module": "@jupyter-widgets/base",
            "_view_module_version": "1.2.0",
            "_view_name": "StyleView",
            "description_width": ""
          }
        },
        "2f3de7ab1b59460d90d7aaf9183cc98d": {
          "model_module": "@jupyter-widgets/base",
          "model_name": "LayoutModel",
          "model_module_version": "1.2.0",
          "state": {
            "_model_module": "@jupyter-widgets/base",
            "_model_module_version": "1.2.0",
            "_model_name": "LayoutModel",
            "_view_count": null,
            "_view_module": "@jupyter-widgets/base",
            "_view_module_version": "1.2.0",
            "_view_name": "LayoutView",
            "align_content": null,
            "align_items": null,
            "align_self": null,
            "border": null,
            "bottom": null,
            "display": null,
            "flex": null,
            "flex_flow": null,
            "grid_area": null,
            "grid_auto_columns": null,
            "grid_auto_flow": null,
            "grid_auto_rows": null,
            "grid_column": null,
            "grid_gap": null,
            "grid_row": null,
            "grid_template_areas": null,
            "grid_template_columns": null,
            "grid_template_rows": null,
            "height": null,
            "justify_content": null,
            "justify_items": null,
            "left": null,
            "margin": null,
            "max_height": null,
            "max_width": null,
            "min_height": null,
            "min_width": null,
            "object_fit": null,
            "object_position": null,
            "order": null,
            "overflow": null,
            "overflow_x": null,
            "overflow_y": null,
            "padding": null,
            "right": null,
            "top": null,
            "visibility": null,
            "width": null
          }
        },
        "01856555e0ba45f2ac0d093f6d1eeaf8": {
          "model_module": "@jupyter-widgets/controls",
          "model_name": "ProgressStyleModel",
          "model_module_version": "1.5.0",
          "state": {
            "_model_module": "@jupyter-widgets/controls",
            "_model_module_version": "1.5.0",
            "_model_name": "ProgressStyleModel",
            "_view_count": null,
            "_view_module": "@jupyter-widgets/base",
            "_view_module_version": "1.2.0",
            "_view_name": "StyleView",
            "bar_color": null,
            "description_width": ""
          }
        },
        "93ce59bf4a504b4d8ddbfb098c2cf105": {
          "model_module": "@jupyter-widgets/base",
          "model_name": "LayoutModel",
          "model_module_version": "1.2.0",
          "state": {
            "_model_module": "@jupyter-widgets/base",
            "_model_module_version": "1.2.0",
            "_model_name": "LayoutModel",
            "_view_count": null,
            "_view_module": "@jupyter-widgets/base",
            "_view_module_version": "1.2.0",
            "_view_name": "LayoutView",
            "align_content": null,
            "align_items": null,
            "align_self": null,
            "border": null,
            "bottom": null,
            "display": null,
            "flex": null,
            "flex_flow": null,
            "grid_area": null,
            "grid_auto_columns": null,
            "grid_auto_flow": null,
            "grid_auto_rows": null,
            "grid_column": null,
            "grid_gap": null,
            "grid_row": null,
            "grid_template_areas": null,
            "grid_template_columns": null,
            "grid_template_rows": null,
            "height": null,
            "justify_content": null,
            "justify_items": null,
            "left": null,
            "margin": null,
            "max_height": null,
            "max_width": null,
            "min_height": null,
            "min_width": null,
            "object_fit": null,
            "object_position": null,
            "order": null,
            "overflow": null,
            "overflow_x": null,
            "overflow_y": null,
            "padding": null,
            "right": null,
            "top": null,
            "visibility": null,
            "width": null
          }
        },
        "21646b243fc646e1a94658c1d7a38947": {
          "model_module": "@jupyter-widgets/controls",
          "model_name": "DescriptionStyleModel",
          "model_module_version": "1.5.0",
          "state": {
            "_model_module": "@jupyter-widgets/controls",
            "_model_module_version": "1.5.0",
            "_model_name": "DescriptionStyleModel",
            "_view_count": null,
            "_view_module": "@jupyter-widgets/base",
            "_view_module_version": "1.2.0",
            "_view_name": "StyleView",
            "description_width": ""
          }
        },
        "6dfd4b70ba0d45d5b629a5ab582e9aa5": {
          "model_module": "@jupyter-widgets/controls",
          "model_name": "HBoxModel",
          "model_module_version": "1.5.0",
          "state": {
            "_dom_classes": [],
            "_model_module": "@jupyter-widgets/controls",
            "_model_module_version": "1.5.0",
            "_model_name": "HBoxModel",
            "_view_count": null,
            "_view_module": "@jupyter-widgets/controls",
            "_view_module_version": "1.5.0",
            "_view_name": "HBoxView",
            "box_style": "",
            "children": [
              "IPY_MODEL_062df92e914342c9a10f8bf817736727",
              "IPY_MODEL_e0b9cf0e9fed4285b15a0aa2278294a1",
              "IPY_MODEL_b269424074404b599b20241d00578f5f"
            ],
            "layout": "IPY_MODEL_a882ca311eba4c38a8b1b2bf73ec66ef"
          }
        },
        "062df92e914342c9a10f8bf817736727": {
          "model_module": "@jupyter-widgets/controls",
          "model_name": "HTMLModel",
          "model_module_version": "1.5.0",
          "state": {
            "_dom_classes": [],
            "_model_module": "@jupyter-widgets/controls",
            "_model_module_version": "1.5.0",
            "_model_name": "HTMLModel",
            "_view_count": null,
            "_view_module": "@jupyter-widgets/controls",
            "_view_module_version": "1.5.0",
            "_view_name": "HTMLView",
            "description": "",
            "description_tooltip": null,
            "layout": "IPY_MODEL_fe692d340e0540d696c049d40023f412",
            "placeholder": "​",
            "style": "IPY_MODEL_0234d315fb4d445cbea0d54913ec8d07",
            "value": "config.json: 100%"
          }
        },
        "e0b9cf0e9fed4285b15a0aa2278294a1": {
          "model_module": "@jupyter-widgets/controls",
          "model_name": "FloatProgressModel",
          "model_module_version": "1.5.0",
          "state": {
            "_dom_classes": [],
            "_model_module": "@jupyter-widgets/controls",
            "_model_module_version": "1.5.0",
            "_model_name": "FloatProgressModel",
            "_view_count": null,
            "_view_module": "@jupyter-widgets/controls",
            "_view_module_version": "1.5.0",
            "_view_name": "ProgressView",
            "bar_style": "success",
            "description": "",
            "description_tooltip": null,
            "layout": "IPY_MODEL_ff581a77f9bc44a6936890884b49bf4a",
            "max": 908,
            "min": 0,
            "orientation": "horizontal",
            "style": "IPY_MODEL_6c6e34a29d734977890ab2bb40cb1da4",
            "value": 908
          }
        },
        "b269424074404b599b20241d00578f5f": {
          "model_module": "@jupyter-widgets/controls",
          "model_name": "HTMLModel",
          "model_module_version": "1.5.0",
          "state": {
            "_dom_classes": [],
            "_model_module": "@jupyter-widgets/controls",
            "_model_module_version": "1.5.0",
            "_model_name": "HTMLModel",
            "_view_count": null,
            "_view_module": "@jupyter-widgets/controls",
            "_view_module_version": "1.5.0",
            "_view_name": "HTMLView",
            "description": "",
            "description_tooltip": null,
            "layout": "IPY_MODEL_ee751389e7064760a16709f1eee2ff7b",
            "placeholder": "​",
            "style": "IPY_MODEL_12f090d3a9a8404e83a637b5b90a116e",
            "value": " 908/908 [00:00&lt;00:00, 15.6kB/s]"
          }
        },
        "a882ca311eba4c38a8b1b2bf73ec66ef": {
          "model_module": "@jupyter-widgets/base",
          "model_name": "LayoutModel",
          "model_module_version": "1.2.0",
          "state": {
            "_model_module": "@jupyter-widgets/base",
            "_model_module_version": "1.2.0",
            "_model_name": "LayoutModel",
            "_view_count": null,
            "_view_module": "@jupyter-widgets/base",
            "_view_module_version": "1.2.0",
            "_view_name": "LayoutView",
            "align_content": null,
            "align_items": null,
            "align_self": null,
            "border": null,
            "bottom": null,
            "display": null,
            "flex": null,
            "flex_flow": null,
            "grid_area": null,
            "grid_auto_columns": null,
            "grid_auto_flow": null,
            "grid_auto_rows": null,
            "grid_column": null,
            "grid_gap": null,
            "grid_row": null,
            "grid_template_areas": null,
            "grid_template_columns": null,
            "grid_template_rows": null,
            "height": null,
            "justify_content": null,
            "justify_items": null,
            "left": null,
            "margin": null,
            "max_height": null,
            "max_width": null,
            "min_height": null,
            "min_width": null,
            "object_fit": null,
            "object_position": null,
            "order": null,
            "overflow": null,
            "overflow_x": null,
            "overflow_y": null,
            "padding": null,
            "right": null,
            "top": null,
            "visibility": null,
            "width": null
          }
        },
        "fe692d340e0540d696c049d40023f412": {
          "model_module": "@jupyter-widgets/base",
          "model_name": "LayoutModel",
          "model_module_version": "1.2.0",
          "state": {
            "_model_module": "@jupyter-widgets/base",
            "_model_module_version": "1.2.0",
            "_model_name": "LayoutModel",
            "_view_count": null,
            "_view_module": "@jupyter-widgets/base",
            "_view_module_version": "1.2.0",
            "_view_name": "LayoutView",
            "align_content": null,
            "align_items": null,
            "align_self": null,
            "border": null,
            "bottom": null,
            "display": null,
            "flex": null,
            "flex_flow": null,
            "grid_area": null,
            "grid_auto_columns": null,
            "grid_auto_flow": null,
            "grid_auto_rows": null,
            "grid_column": null,
            "grid_gap": null,
            "grid_row": null,
            "grid_template_areas": null,
            "grid_template_columns": null,
            "grid_template_rows": null,
            "height": null,
            "justify_content": null,
            "justify_items": null,
            "left": null,
            "margin": null,
            "max_height": null,
            "max_width": null,
            "min_height": null,
            "min_width": null,
            "object_fit": null,
            "object_position": null,
            "order": null,
            "overflow": null,
            "overflow_x": null,
            "overflow_y": null,
            "padding": null,
            "right": null,
            "top": null,
            "visibility": null,
            "width": null
          }
        },
        "0234d315fb4d445cbea0d54913ec8d07": {
          "model_module": "@jupyter-widgets/controls",
          "model_name": "DescriptionStyleModel",
          "model_module_version": "1.5.0",
          "state": {
            "_model_module": "@jupyter-widgets/controls",
            "_model_module_version": "1.5.0",
            "_model_name": "DescriptionStyleModel",
            "_view_count": null,
            "_view_module": "@jupyter-widgets/base",
            "_view_module_version": "1.2.0",
            "_view_name": "StyleView",
            "description_width": ""
          }
        },
        "ff581a77f9bc44a6936890884b49bf4a": {
          "model_module": "@jupyter-widgets/base",
          "model_name": "LayoutModel",
          "model_module_version": "1.2.0",
          "state": {
            "_model_module": "@jupyter-widgets/base",
            "_model_module_version": "1.2.0",
            "_model_name": "LayoutModel",
            "_view_count": null,
            "_view_module": "@jupyter-widgets/base",
            "_view_module_version": "1.2.0",
            "_view_name": "LayoutView",
            "align_content": null,
            "align_items": null,
            "align_self": null,
            "border": null,
            "bottom": null,
            "display": null,
            "flex": null,
            "flex_flow": null,
            "grid_area": null,
            "grid_auto_columns": null,
            "grid_auto_flow": null,
            "grid_auto_rows": null,
            "grid_column": null,
            "grid_gap": null,
            "grid_row": null,
            "grid_template_areas": null,
            "grid_template_columns": null,
            "grid_template_rows": null,
            "height": null,
            "justify_content": null,
            "justify_items": null,
            "left": null,
            "margin": null,
            "max_height": null,
            "max_width": null,
            "min_height": null,
            "min_width": null,
            "object_fit": null,
            "object_position": null,
            "order": null,
            "overflow": null,
            "overflow_x": null,
            "overflow_y": null,
            "padding": null,
            "right": null,
            "top": null,
            "visibility": null,
            "width": null
          }
        },
        "6c6e34a29d734977890ab2bb40cb1da4": {
          "model_module": "@jupyter-widgets/controls",
          "model_name": "ProgressStyleModel",
          "model_module_version": "1.5.0",
          "state": {
            "_model_module": "@jupyter-widgets/controls",
            "_model_module_version": "1.5.0",
            "_model_name": "ProgressStyleModel",
            "_view_count": null,
            "_view_module": "@jupyter-widgets/base",
            "_view_module_version": "1.2.0",
            "_view_name": "StyleView",
            "bar_color": null,
            "description_width": ""
          }
        },
        "ee751389e7064760a16709f1eee2ff7b": {
          "model_module": "@jupyter-widgets/base",
          "model_name": "LayoutModel",
          "model_module_version": "1.2.0",
          "state": {
            "_model_module": "@jupyter-widgets/base",
            "_model_module_version": "1.2.0",
            "_model_name": "LayoutModel",
            "_view_count": null,
            "_view_module": "@jupyter-widgets/base",
            "_view_module_version": "1.2.0",
            "_view_name": "LayoutView",
            "align_content": null,
            "align_items": null,
            "align_self": null,
            "border": null,
            "bottom": null,
            "display": null,
            "flex": null,
            "flex_flow": null,
            "grid_area": null,
            "grid_auto_columns": null,
            "grid_auto_flow": null,
            "grid_auto_rows": null,
            "grid_column": null,
            "grid_gap": null,
            "grid_row": null,
            "grid_template_areas": null,
            "grid_template_columns": null,
            "grid_template_rows": null,
            "height": null,
            "justify_content": null,
            "justify_items": null,
            "left": null,
            "margin": null,
            "max_height": null,
            "max_width": null,
            "min_height": null,
            "min_width": null,
            "object_fit": null,
            "object_position": null,
            "order": null,
            "overflow": null,
            "overflow_x": null,
            "overflow_y": null,
            "padding": null,
            "right": null,
            "top": null,
            "visibility": null,
            "width": null
          }
        },
        "12f090d3a9a8404e83a637b5b90a116e": {
          "model_module": "@jupyter-widgets/controls",
          "model_name": "DescriptionStyleModel",
          "model_module_version": "1.5.0",
          "state": {
            "_model_module": "@jupyter-widgets/controls",
            "_model_module_version": "1.5.0",
            "_model_name": "DescriptionStyleModel",
            "_view_count": null,
            "_view_module": "@jupyter-widgets/base",
            "_view_module_version": "1.2.0",
            "_view_name": "StyleView",
            "description_width": ""
          }
        },
        "dcb812d5096a4a57a491ea1d50c30f36": {
          "model_module": "@jupyter-widgets/controls",
          "model_name": "HBoxModel",
          "model_module_version": "1.5.0",
          "state": {
            "_dom_classes": [],
            "_model_module": "@jupyter-widgets/controls",
            "_model_module_version": "1.5.0",
            "_model_name": "HBoxModel",
            "_view_count": null,
            "_view_module": "@jupyter-widgets/controls",
            "_view_module_version": "1.5.0",
            "_view_name": "HBoxView",
            "box_style": "",
            "children": [
              "IPY_MODEL_4ede29eda02e4765beffddbb8d8e4f12",
              "IPY_MODEL_bada754df6cf4b32aae114a4cac760fc",
              "IPY_MODEL_e98afec751b74196aaddcbca85b0cc44"
            ],
            "layout": "IPY_MODEL_340a9c4c833e450097b9feb39935f2e8"
          }
        },
        "4ede29eda02e4765beffddbb8d8e4f12": {
          "model_module": "@jupyter-widgets/controls",
          "model_name": "HTMLModel",
          "model_module_version": "1.5.0",
          "state": {
            "_dom_classes": [],
            "_model_module": "@jupyter-widgets/controls",
            "_model_module_version": "1.5.0",
            "_model_name": "HTMLModel",
            "_view_count": null,
            "_view_module": "@jupyter-widgets/controls",
            "_view_module_version": "1.5.0",
            "_view_name": "HTMLView",
            "description": "",
            "description_tooltip": null,
            "layout": "IPY_MODEL_a181f53e6f4542a0ae678809699954bd",
            "placeholder": "​",
            "style": "IPY_MODEL_2f15e5853b724f3cb941633741cefc31",
            "value": "pytorch_model.bin: 100%"
          }
        },
        "bada754df6cf4b32aae114a4cac760fc": {
          "model_module": "@jupyter-widgets/controls",
          "model_name": "FloatProgressModel",
          "model_module_version": "1.5.0",
          "state": {
            "_dom_classes": [],
            "_model_module": "@jupyter-widgets/controls",
            "_model_module_version": "1.5.0",
            "_model_name": "FloatProgressModel",
            "_view_count": null,
            "_view_module": "@jupyter-widgets/controls",
            "_view_module_version": "1.5.0",
            "_view_name": "ProgressView",
            "bar_style": "success",
            "description": "",
            "description_tooltip": null,
            "layout": "IPY_MODEL_d8b44bad86f74234b2bf79644eabda31",
            "max": 1935796948,
            "min": 0,
            "orientation": "horizontal",
            "style": "IPY_MODEL_9abefd195aed416ebf762f0926843b86",
            "value": 1935796948
          }
        },
        "e98afec751b74196aaddcbca85b0cc44": {
          "model_module": "@jupyter-widgets/controls",
          "model_name": "HTMLModel",
          "model_module_version": "1.5.0",
          "state": {
            "_dom_classes": [],
            "_model_module": "@jupyter-widgets/controls",
            "_model_module_version": "1.5.0",
            "_model_name": "HTMLModel",
            "_view_count": null,
            "_view_module": "@jupyter-widgets/controls",
            "_view_module_version": "1.5.0",
            "_view_name": "HTMLView",
            "description": "",
            "description_tooltip": null,
            "layout": "IPY_MODEL_421e9d11773b4bb4b72389dfc642572a",
            "placeholder": "​",
            "style": "IPY_MODEL_b035fac2ef32432a845cdde551b5b99e",
            "value": " 1.94G/1.94G [00:23&lt;00:00, 113MB/s]"
          }
        },
        "340a9c4c833e450097b9feb39935f2e8": {
          "model_module": "@jupyter-widgets/base",
          "model_name": "LayoutModel",
          "model_module_version": "1.2.0",
          "state": {
            "_model_module": "@jupyter-widgets/base",
            "_model_module_version": "1.2.0",
            "_model_name": "LayoutModel",
            "_view_count": null,
            "_view_module": "@jupyter-widgets/base",
            "_view_module_version": "1.2.0",
            "_view_name": "LayoutView",
            "align_content": null,
            "align_items": null,
            "align_self": null,
            "border": null,
            "bottom": null,
            "display": null,
            "flex": null,
            "flex_flow": null,
            "grid_area": null,
            "grid_auto_columns": null,
            "grid_auto_flow": null,
            "grid_auto_rows": null,
            "grid_column": null,
            "grid_gap": null,
            "grid_row": null,
            "grid_template_areas": null,
            "grid_template_columns": null,
            "grid_template_rows": null,
            "height": null,
            "justify_content": null,
            "justify_items": null,
            "left": null,
            "margin": null,
            "max_height": null,
            "max_width": null,
            "min_height": null,
            "min_width": null,
            "object_fit": null,
            "object_position": null,
            "order": null,
            "overflow": null,
            "overflow_x": null,
            "overflow_y": null,
            "padding": null,
            "right": null,
            "top": null,
            "visibility": null,
            "width": null
          }
        },
        "a181f53e6f4542a0ae678809699954bd": {
          "model_module": "@jupyter-widgets/base",
          "model_name": "LayoutModel",
          "model_module_version": "1.2.0",
          "state": {
            "_model_module": "@jupyter-widgets/base",
            "_model_module_version": "1.2.0",
            "_model_name": "LayoutModel",
            "_view_count": null,
            "_view_module": "@jupyter-widgets/base",
            "_view_module_version": "1.2.0",
            "_view_name": "LayoutView",
            "align_content": null,
            "align_items": null,
            "align_self": null,
            "border": null,
            "bottom": null,
            "display": null,
            "flex": null,
            "flex_flow": null,
            "grid_area": null,
            "grid_auto_columns": null,
            "grid_auto_flow": null,
            "grid_auto_rows": null,
            "grid_column": null,
            "grid_gap": null,
            "grid_row": null,
            "grid_template_areas": null,
            "grid_template_columns": null,
            "grid_template_rows": null,
            "height": null,
            "justify_content": null,
            "justify_items": null,
            "left": null,
            "margin": null,
            "max_height": null,
            "max_width": null,
            "min_height": null,
            "min_width": null,
            "object_fit": null,
            "object_position": null,
            "order": null,
            "overflow": null,
            "overflow_x": null,
            "overflow_y": null,
            "padding": null,
            "right": null,
            "top": null,
            "visibility": null,
            "width": null
          }
        },
        "2f15e5853b724f3cb941633741cefc31": {
          "model_module": "@jupyter-widgets/controls",
          "model_name": "DescriptionStyleModel",
          "model_module_version": "1.5.0",
          "state": {
            "_model_module": "@jupyter-widgets/controls",
            "_model_module_version": "1.5.0",
            "_model_name": "DescriptionStyleModel",
            "_view_count": null,
            "_view_module": "@jupyter-widgets/base",
            "_view_module_version": "1.2.0",
            "_view_name": "StyleView",
            "description_width": ""
          }
        },
        "d8b44bad86f74234b2bf79644eabda31": {
          "model_module": "@jupyter-widgets/base",
          "model_name": "LayoutModel",
          "model_module_version": "1.2.0",
          "state": {
            "_model_module": "@jupyter-widgets/base",
            "_model_module_version": "1.2.0",
            "_model_name": "LayoutModel",
            "_view_count": null,
            "_view_module": "@jupyter-widgets/base",
            "_view_module_version": "1.2.0",
            "_view_name": "LayoutView",
            "align_content": null,
            "align_items": null,
            "align_self": null,
            "border": null,
            "bottom": null,
            "display": null,
            "flex": null,
            "flex_flow": null,
            "grid_area": null,
            "grid_auto_columns": null,
            "grid_auto_flow": null,
            "grid_auto_rows": null,
            "grid_column": null,
            "grid_gap": null,
            "grid_row": null,
            "grid_template_areas": null,
            "grid_template_columns": null,
            "grid_template_rows": null,
            "height": null,
            "justify_content": null,
            "justify_items": null,
            "left": null,
            "margin": null,
            "max_height": null,
            "max_width": null,
            "min_height": null,
            "min_width": null,
            "object_fit": null,
            "object_position": null,
            "order": null,
            "overflow": null,
            "overflow_x": null,
            "overflow_y": null,
            "padding": null,
            "right": null,
            "top": null,
            "visibility": null,
            "width": null
          }
        },
        "9abefd195aed416ebf762f0926843b86": {
          "model_module": "@jupyter-widgets/controls",
          "model_name": "ProgressStyleModel",
          "model_module_version": "1.5.0",
          "state": {
            "_model_module": "@jupyter-widgets/controls",
            "_model_module_version": "1.5.0",
            "_model_name": "ProgressStyleModel",
            "_view_count": null,
            "_view_module": "@jupyter-widgets/base",
            "_view_module_version": "1.2.0",
            "_view_name": "StyleView",
            "bar_color": null,
            "description_width": ""
          }
        },
        "421e9d11773b4bb4b72389dfc642572a": {
          "model_module": "@jupyter-widgets/base",
          "model_name": "LayoutModel",
          "model_module_version": "1.2.0",
          "state": {
            "_model_module": "@jupyter-widgets/base",
            "_model_module_version": "1.2.0",
            "_model_name": "LayoutModel",
            "_view_count": null,
            "_view_module": "@jupyter-widgets/base",
            "_view_module_version": "1.2.0",
            "_view_name": "LayoutView",
            "align_content": null,
            "align_items": null,
            "align_self": null,
            "border": null,
            "bottom": null,
            "display": null,
            "flex": null,
            "flex_flow": null,
            "grid_area": null,
            "grid_auto_columns": null,
            "grid_auto_flow": null,
            "grid_auto_rows": null,
            "grid_column": null,
            "grid_gap": null,
            "grid_row": null,
            "grid_template_areas": null,
            "grid_template_columns": null,
            "grid_template_rows": null,
            "height": null,
            "justify_content": null,
            "justify_items": null,
            "left": null,
            "margin": null,
            "max_height": null,
            "max_width": null,
            "min_height": null,
            "min_width": null,
            "object_fit": null,
            "object_position": null,
            "order": null,
            "overflow": null,
            "overflow_x": null,
            "overflow_y": null,
            "padding": null,
            "right": null,
            "top": null,
            "visibility": null,
            "width": null
          }
        },
        "b035fac2ef32432a845cdde551b5b99e": {
          "model_module": "@jupyter-widgets/controls",
          "model_name": "DescriptionStyleModel",
          "model_module_version": "1.5.0",
          "state": {
            "_model_module": "@jupyter-widgets/controls",
            "_model_module_version": "1.5.0",
            "_model_name": "DescriptionStyleModel",
            "_view_count": null,
            "_view_module": "@jupyter-widgets/base",
            "_view_module_version": "1.2.0",
            "_view_name": "StyleView",
            "description_width": ""
          }
        },
        "7a7f30380ea44af483e4b92505a51d1b": {
          "model_module": "@jupyter-widgets/controls",
          "model_name": "HBoxModel",
          "model_module_version": "1.5.0",
          "state": {
            "_dom_classes": [],
            "_model_module": "@jupyter-widgets/controls",
            "_model_module_version": "1.5.0",
            "_model_name": "HBoxModel",
            "_view_count": null,
            "_view_module": "@jupyter-widgets/controls",
            "_view_module_version": "1.5.0",
            "_view_name": "HBoxView",
            "box_style": "",
            "children": [
              "IPY_MODEL_f69ff634ace24c5187ec014dd1888712",
              "IPY_MODEL_b91489d383ab4567879840aad3bd3c20",
              "IPY_MODEL_6ee78cee66324d97ae25d43d99392c7e"
            ],
            "layout": "IPY_MODEL_a2f9129acbdf417f9174bf9086bf1f80"
          }
        },
        "f69ff634ace24c5187ec014dd1888712": {
          "model_module": "@jupyter-widgets/controls",
          "model_name": "HTMLModel",
          "model_module_version": "1.5.0",
          "state": {
            "_dom_classes": [],
            "_model_module": "@jupyter-widgets/controls",
            "_model_module_version": "1.5.0",
            "_model_name": "HTMLModel",
            "_view_count": null,
            "_view_module": "@jupyter-widgets/controls",
            "_view_module_version": "1.5.0",
            "_view_name": "HTMLView",
            "description": "",
            "description_tooltip": null,
            "layout": "IPY_MODEL_63107d5b55be4607aa507773cf7479a4",
            "placeholder": "​",
            "style": "IPY_MODEL_102cdf719846422f9a7b65896f424bcb",
            "value": "generation_config.json: 100%"
          }
        },
        "b91489d383ab4567879840aad3bd3c20": {
          "model_module": "@jupyter-widgets/controls",
          "model_name": "FloatProgressModel",
          "model_module_version": "1.5.0",
          "state": {
            "_dom_classes": [],
            "_model_module": "@jupyter-widgets/controls",
            "_model_module_version": "1.5.0",
            "_model_name": "FloatProgressModel",
            "_view_count": null,
            "_view_module": "@jupyter-widgets/controls",
            "_view_module_version": "1.5.0",
            "_view_name": "ProgressView",
            "bar_style": "success",
            "description": "",
            "description_tooltip": null,
            "layout": "IPY_MODEL_c398f77a55cb4373b2a17344c72c2130",
            "max": 233,
            "min": 0,
            "orientation": "horizontal",
            "style": "IPY_MODEL_986446e76f0a428bac73a3bb71f3ba30",
            "value": 233
          }
        },
        "6ee78cee66324d97ae25d43d99392c7e": {
          "model_module": "@jupyter-widgets/controls",
          "model_name": "HTMLModel",
          "model_module_version": "1.5.0",
          "state": {
            "_dom_classes": [],
            "_model_module": "@jupyter-widgets/controls",
            "_model_module_version": "1.5.0",
            "_model_name": "HTMLModel",
            "_view_count": null,
            "_view_module": "@jupyter-widgets/controls",
            "_view_module_version": "1.5.0",
            "_view_name": "HTMLView",
            "description": "",
            "description_tooltip": null,
            "layout": "IPY_MODEL_761f8040b3544dc6ac6bf282e5fd5bfa",
            "placeholder": "​",
            "style": "IPY_MODEL_8a32ecaa48bf4e9ca1734b0159c31ba8",
            "value": " 233/233 [00:00&lt;00:00, 14.7kB/s]"
          }
        },
        "a2f9129acbdf417f9174bf9086bf1f80": {
          "model_module": "@jupyter-widgets/base",
          "model_name": "LayoutModel",
          "model_module_version": "1.2.0",
          "state": {
            "_model_module": "@jupyter-widgets/base",
            "_model_module_version": "1.2.0",
            "_model_name": "LayoutModel",
            "_view_count": null,
            "_view_module": "@jupyter-widgets/base",
            "_view_module_version": "1.2.0",
            "_view_name": "LayoutView",
            "align_content": null,
            "align_items": null,
            "align_self": null,
            "border": null,
            "bottom": null,
            "display": null,
            "flex": null,
            "flex_flow": null,
            "grid_area": null,
            "grid_auto_columns": null,
            "grid_auto_flow": null,
            "grid_auto_rows": null,
            "grid_column": null,
            "grid_gap": null,
            "grid_row": null,
            "grid_template_areas": null,
            "grid_template_columns": null,
            "grid_template_rows": null,
            "height": null,
            "justify_content": null,
            "justify_items": null,
            "left": null,
            "margin": null,
            "max_height": null,
            "max_width": null,
            "min_height": null,
            "min_width": null,
            "object_fit": null,
            "object_position": null,
            "order": null,
            "overflow": null,
            "overflow_x": null,
            "overflow_y": null,
            "padding": null,
            "right": null,
            "top": null,
            "visibility": null,
            "width": null
          }
        },
        "63107d5b55be4607aa507773cf7479a4": {
          "model_module": "@jupyter-widgets/base",
          "model_name": "LayoutModel",
          "model_module_version": "1.2.0",
          "state": {
            "_model_module": "@jupyter-widgets/base",
            "_model_module_version": "1.2.0",
            "_model_name": "LayoutModel",
            "_view_count": null,
            "_view_module": "@jupyter-widgets/base",
            "_view_module_version": "1.2.0",
            "_view_name": "LayoutView",
            "align_content": null,
            "align_items": null,
            "align_self": null,
            "border": null,
            "bottom": null,
            "display": null,
            "flex": null,
            "flex_flow": null,
            "grid_area": null,
            "grid_auto_columns": null,
            "grid_auto_flow": null,
            "grid_auto_rows": null,
            "grid_column": null,
            "grid_gap": null,
            "grid_row": null,
            "grid_template_areas": null,
            "grid_template_columns": null,
            "grid_template_rows": null,
            "height": null,
            "justify_content": null,
            "justify_items": null,
            "left": null,
            "margin": null,
            "max_height": null,
            "max_width": null,
            "min_height": null,
            "min_width": null,
            "object_fit": null,
            "object_position": null,
            "order": null,
            "overflow": null,
            "overflow_x": null,
            "overflow_y": null,
            "padding": null,
            "right": null,
            "top": null,
            "visibility": null,
            "width": null
          }
        },
        "102cdf719846422f9a7b65896f424bcb": {
          "model_module": "@jupyter-widgets/controls",
          "model_name": "DescriptionStyleModel",
          "model_module_version": "1.5.0",
          "state": {
            "_model_module": "@jupyter-widgets/controls",
            "_model_module_version": "1.5.0",
            "_model_name": "DescriptionStyleModel",
            "_view_count": null,
            "_view_module": "@jupyter-widgets/base",
            "_view_module_version": "1.2.0",
            "_view_name": "StyleView",
            "description_width": ""
          }
        },
        "c398f77a55cb4373b2a17344c72c2130": {
          "model_module": "@jupyter-widgets/base",
          "model_name": "LayoutModel",
          "model_module_version": "1.2.0",
          "state": {
            "_model_module": "@jupyter-widgets/base",
            "_model_module_version": "1.2.0",
            "_model_name": "LayoutModel",
            "_view_count": null,
            "_view_module": "@jupyter-widgets/base",
            "_view_module_version": "1.2.0",
            "_view_name": "LayoutView",
            "align_content": null,
            "align_items": null,
            "align_self": null,
            "border": null,
            "bottom": null,
            "display": null,
            "flex": null,
            "flex_flow": null,
            "grid_area": null,
            "grid_auto_columns": null,
            "grid_auto_flow": null,
            "grid_auto_rows": null,
            "grid_column": null,
            "grid_gap": null,
            "grid_row": null,
            "grid_template_areas": null,
            "grid_template_columns": null,
            "grid_template_rows": null,
            "height": null,
            "justify_content": null,
            "justify_items": null,
            "left": null,
            "margin": null,
            "max_height": null,
            "max_width": null,
            "min_height": null,
            "min_width": null,
            "object_fit": null,
            "object_position": null,
            "order": null,
            "overflow": null,
            "overflow_x": null,
            "overflow_y": null,
            "padding": null,
            "right": null,
            "top": null,
            "visibility": null,
            "width": null
          }
        },
        "986446e76f0a428bac73a3bb71f3ba30": {
          "model_module": "@jupyter-widgets/controls",
          "model_name": "ProgressStyleModel",
          "model_module_version": "1.5.0",
          "state": {
            "_model_module": "@jupyter-widgets/controls",
            "_model_module_version": "1.5.0",
            "_model_name": "ProgressStyleModel",
            "_view_count": null,
            "_view_module": "@jupyter-widgets/base",
            "_view_module_version": "1.2.0",
            "_view_name": "StyleView",
            "bar_color": null,
            "description_width": ""
          }
        },
        "761f8040b3544dc6ac6bf282e5fd5bfa": {
          "model_module": "@jupyter-widgets/base",
          "model_name": "LayoutModel",
          "model_module_version": "1.2.0",
          "state": {
            "_model_module": "@jupyter-widgets/base",
            "_model_module_version": "1.2.0",
            "_model_name": "LayoutModel",
            "_view_count": null,
            "_view_module": "@jupyter-widgets/base",
            "_view_module_version": "1.2.0",
            "_view_name": "LayoutView",
            "align_content": null,
            "align_items": null,
            "align_self": null,
            "border": null,
            "bottom": null,
            "display": null,
            "flex": null,
            "flex_flow": null,
            "grid_area": null,
            "grid_auto_columns": null,
            "grid_auto_flow": null,
            "grid_auto_rows": null,
            "grid_column": null,
            "grid_gap": null,
            "grid_row": null,
            "grid_template_areas": null,
            "grid_template_columns": null,
            "grid_template_rows": null,
            "height": null,
            "justify_content": null,
            "justify_items": null,
            "left": null,
            "margin": null,
            "max_height": null,
            "max_width": null,
            "min_height": null,
            "min_width": null,
            "object_fit": null,
            "object_position": null,
            "order": null,
            "overflow": null,
            "overflow_x": null,
            "overflow_y": null,
            "padding": null,
            "right": null,
            "top": null,
            "visibility": null,
            "width": null
          }
        },
        "8a32ecaa48bf4e9ca1734b0159c31ba8": {
          "model_module": "@jupyter-widgets/controls",
          "model_name": "DescriptionStyleModel",
          "model_module_version": "1.5.0",
          "state": {
            "_model_module": "@jupyter-widgets/controls",
            "_model_module_version": "1.5.0",
            "_model_name": "DescriptionStyleModel",
            "_view_count": null,
            "_view_module": "@jupyter-widgets/base",
            "_view_module_version": "1.2.0",
            "_view_name": "StyleView",
            "description_width": ""
          }
        }
      }
    }
  },
  "nbformat": 4,
  "nbformat_minor": 0
}
